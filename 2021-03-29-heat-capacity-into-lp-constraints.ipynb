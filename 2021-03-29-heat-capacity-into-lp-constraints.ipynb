{
 "cells": [
  {
   "cell_type": "markdown",
   "metadata": {},
   "source": [
    "\n",
    "# Вычисление теплоемкости за счет линейного программирования"
   ]
  },
  {
   "cell_type": "code",
   "execution_count": 1,
   "metadata": {},
   "outputs": [
    {
     "name": "stdout",
     "output_type": "stream",
     "text": [
      "Populating the interactive namespace from numpy and matplotlib\n"
     ]
    }
   ],
   "source": [
    "from cylp.cy import CyClpSimplex\n",
    "from cylp.py.modeling.CyLPModel import CyLPArray\n",
    "\n",
    "import numpy as np\n",
    "%pylab inline"
   ]
  },
  {
   "cell_type": "code",
   "execution_count": 5,
   "metadata": {},
   "outputs": [],
   "source": [
    "length = 4                      # Длина теплообменника         [м]\n",
    "time = 300                      # Время работы теплообменника  [с]\n",
    "rball = 0.01                    # Радиус однгого шара засыпки  [м]\n",
    "rbckfill = 2                    # Радиус засыпки               [м]\n",
    "fi = 0.4                        # Пористость                   [доля]\n",
    "MN = 4186.                      # Коэффициент перевода в килокаллории\n",
    "# Расчет объема засыпки [м^3]\n",
    "vbckfill = np.pi * rbckfill**2 * (1 - fi)\n",
    "\n",
    "# Расчет количества шаров [шт]\n",
    "cball = vbckfill/((4*np.pi/3)*rball**3)\n",
    "\n",
    "# Расчет удельной площади теплообмена [м^2]\n",
    "surf_spec = cball * 4 * np.pi * rball ** 2\n",
    "\n",
    "# Расчет площади живого сечения для прохождения теплоносителя через засыпку  [м^2]\n",
    "fgib = np.pi*fi*rbckfill**2\n",
    "\n",
    "# Расчет эквивалентного диаметра засыпки (для расчета теплообмена) [м]\n",
    "dekb=(4/3)*(fi/(1-fi))*rball\n",
    "\n",
    "TG = 1000"
   ]
  },
  {
   "cell_type": "code",
   "execution_count": 7,
   "metadata": {},
   "outputs": [],
   "source": [
    "MASS = 26.98154*2+15.9994*3       # Al2O3 г/моль\n",
    "\n",
    "# Теплопроводность керамики        [ккал/м*с*К]\n",
    "lamcer_A = np.array([-43.9595654, 0.0113006956,\n",
    "              1251.80322, 719874.068])/MN\n",
    "def lam(TC):\n",
    "    A = lamcer_A\n",
    "    return A[0] + A[1]* TC + A[2]/np.sqrt(TC) + A[3]/TC**2\n",
    "\n",
    "# Теплоемкость керамики           [ккал/кг*К]\n",
    "ccer_A1 = np.array([153.43, 1.9681e-3,\n",
    "               -900.63,-2.0307e+6])\n",
    "ccer_A2 = np.array([100.849518,0.150388616, \n",
    "               -1176.47884,149808.151])    \n",
    "def ccer(TC):\n",
    "    MN = MASS*4.186\n",
    "    if TC > 298.1:\n",
    "        A = ccer_A1/MN\n",
    "    else:\n",
    "        A = ccer_A2/MN\n",
    "    return A[0] + A[1]* TC + A[2]/np.sqrt(TC) + A[3]/TC**2\n",
    "\n",
    "# Плотность керамики [кг/м^3]\n",
    "def rho_cer(TC):\n",
    "    A = np.array([-8.90655002e-06,-9.31235452e-02,3.97251537e+03])\n",
    "    T = TC - 273.15\n",
    "    return (A[0]*T+A[1])*T+A[2]\n",
    "\n",
    "# Температуропроводность керамики | [м^2/с]\n",
    "def a(TC):\n",
    "    return lam(TC)/ccer(TC)/rho_cer(TC)\n",
    "\n",
    "# Удельная масса керамики   | [кг/м]\n",
    "qmass_spec = vbckfill*rho_cer(293.15)"
   ]
  },
  {
   "cell_type": "code",
   "execution_count": 9,
   "metadata": {},
   "outputs": [],
   "source": [
    "vccer = np.vectorize(ccer)"
   ]
  },
  {
   "cell_type": "code",
   "execution_count": 15,
   "metadata": {},
   "outputs": [
    {
     "data": {
      "text/plain": [
       "[<matplotlib.lines.Line2D at 0x7f7995e65518>]"
      ]
     },
     "execution_count": 15,
     "metadata": {},
     "output_type": "execute_result"
    },
    {
     "data": {
      "image/png": "[encoded data removed]",
      "text/plain": [
       "<Figure size 432x288 with 1 Axes>"
      ]
     },
     "metadata": {
      "needs_background": "light"
     },
     "output_type": "display_data"
    }
   ],
   "source": [
    "t = np.linspace(600,1000,1000)\n",
    "plt.plot(t,vccer(t))"
   ]
  }
 ],
 "metadata": {
  "kernelspec": {
   "display_name": "Python 3",
   "language": "python",
   "name": "python3"
  },
  "language_info": {
   "codemirror_mode": {
    "name": "ipython",
    "version": 3
   },
   "file_extension": ".py",
   "mimetype": "text/x-python",
   "name": "python",
   "nbconvert_exporter": "python",
   "pygments_lexer": "ipython3",
   "version": "3.7.3"
  }
 },
 "nbformat": 4,
 "nbformat_minor": 4
}
