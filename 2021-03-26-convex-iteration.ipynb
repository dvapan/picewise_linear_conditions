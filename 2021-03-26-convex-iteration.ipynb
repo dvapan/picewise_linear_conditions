{
 "cells": [
  {
   "cell_type": "markdown",
   "metadata": {},
   "source": [
    "# Проверка различных значений"
   ]
  },
  {
   "cell_type": "markdown",
   "metadata": {},
   "source": [
    "При создании выпукло-двойственной задачи мы дважды используем значения $x_0, z_0$. Один раз они являются ограничениями правой части, другой - коэффициентами.\n",
    "\n",
    "При этом нам бы хотелось иметь возможность менять ограничеия правой части и при этом оставлять неизменными коэффициенты. Тогда получится встраивать такие ограничения в симплекс метод.\n",
    "\n",
    "Попробуем заменить в ограничениях, которое отображает равенство целевых функций $x$ на $x_0 + \\Delta x$ и $l$ на $l_0 + \\Delta l$"
   ]
  },
  {
   "cell_type": "code",
   "execution_count": 1,
   "metadata": {},
   "outputs": [
    {
     "name": "stdout",
     "output_type": "stream",
     "text": [
      "Populating the interactive namespace from numpy and matplotlib\n"
     ]
    }
   ],
   "source": [
    "from cylp.cy import CyClpSimplex\n",
    "from cylp.py.modeling.CyLPModel import CyLPArray\n",
    "\n",
    "import numpy as np\n",
    "%pylab inline"
   ]
  },
  {
   "cell_type": "code",
   "execution_count": 2,
   "metadata": {},
   "outputs": [],
   "source": [
    "xa,xb = 0,1\n",
    "za,zb = 0,1\n",
    "grid_step = 0.1\n",
    "xa_ext = xa - grid_step\n",
    "xb_ext = xb + grid_step\n",
    "za_ext = za - grid_step\n",
    "zb_ext = zb + grid_step\n",
    "\n",
    "\n",
    "x = np.arange(xa_ext, xb_ext, grid_step, dtype=np.double)\n",
    "z = np.arange(za_ext, zb_ext, grid_step, dtype=np.double)\n",
    "x,z = np.meshgrid(x, z)\n",
    "y = x**2 + x * z + z**2\n",
    "\n",
    "x = x.flatten()\n",
    "z = z.flatten()\n",
    "y = y.flatten()\n",
    "\n",
    "mask = x+z <= 1+grid_step\n",
    "\n",
    "xs = x[mask]\n",
    "zs = z[mask]\n",
    "ys = y[mask]"
   ]
  },
  {
   "cell_type": "markdown",
   "metadata": {},
   "source": [
    "Для начала узнаем в как варьируется $l$"
   ]
  },
  {
   "cell_type": "code",
   "execution_count": 26,
   "metadata": {},
   "outputs": [],
   "source": [
    "def f(xs, zs, ys, x, z, bx, bz):\n",
    "    dim_p = len(xs)\n",
    "    rhs_p = np.array([x,z, 1], dtype=np.double)\n",
    "    dim_d = len(rhs_p) \n",
    "\n",
    "    s = CyClpSimplex()\n",
    "    u = s.addVariable('u', dim_p)\n",
    "    l = s.addVariable('l', dim_d)\n",
    "\n",
    "    A_p = np.vstack([ys,\n",
    "                         xs,\n",
    "                         zs,\n",
    "                         np.ones(dim_p)])\n",
    "\n",
    "    A_p = np.matrix(A_p)\n",
    "\n",
    "    b_p = CyLPArray(np.hstack([0,rhs_p]))\n",
    "    b_d = CyLPArray(y)\n",
    "\n",
    "    A_d = np.hstack([xs.reshape(-1, 1),\n",
    "                     zs.reshape(-1, 1),\n",
    "                     np.ones(len(xs)).reshape(-1, 1)])\n",
    "    A_d = np.matrix(A_d)\n",
    "\n",
    "\n",
    "    # A_d1 = np.matrix(np.vstack([-rhs_p,np.zeros((3,3))]))\n",
    "    t = np.array([bx, bz, 1], dtype=np.double)\n",
    "    A_d1 = np.matrix(np.vstack([t,np.zeros((3,3))]))\n",
    "\n",
    "#     dx = bx - x_0\n",
    "#     dz = bz - z_0\n",
    "    t = np.array([x, z, 0], dtype=np.double)\n",
    "    A_d2 = np.matrix(np.vstack([-t,np.zeros((3,3))]))\n",
    "\n",
    "    #l_0 = np.array([1, 1, 1], dtype=np.double)\n",
    "    \n",
    "    #s += A_p*u - np.dot(A_d1,l_01) + A_d1*l + np.dot(A_d2,l_01) == b_p\n",
    "    s += A_p*u + A_d1*l  == b_p\n",
    "    for i in range(dim_p):\n",
    "        s += u[i] >= 0\n",
    "\n",
    "    s += A_d*l <= b_d\n",
    "\n",
    "    s.objective = u[0]\n",
    "    s.primal()\n",
    "\n",
    "    cond = s.primalVariableSolution['u']\n",
    "    yr = np.dot(cond, ys)\n",
    "    \n",
    "    xr = np.dot(cond, xs)\n",
    "    zr = np.dot(cond, zs)\n",
    "    return yr, x**2 + x * z + z**2, s.getStatusString(),xr,zr, s.primalVariableSolution['l']"
   ]
  },
  {
   "cell_type": "code",
   "execution_count": 32,
   "metadata": {},
   "outputs": [
    {
     "data": {
      "text/plain": [
       "(0.07333333333333336,\n",
       " 0.030000000000000006,\n",
       " 'optimal',\n",
       " 0.1,\n",
       " 0.1,\n",
       " array([ 0.        ,  0.        , -0.07333333]))"
      ]
     },
     "execution_count": 32,
     "metadata": {},
     "output_type": "execute_result"
    }
   ],
   "source": [
    "r = f(xs,zs,ys,0.1,0.1,0.1,0.1)\n",
    "r"
   ]
  },
  {
   "cell_type": "code",
   "execution_count": 5,
   "metadata": {},
   "outputs": [
    {
     "data": {
      "text/plain": [
       "(0.42470588235294127,\n",
       " 0.37,\n",
       " 'optimal',\n",
       " 0.3,\n",
       " 0.4,\n",
       " array([ 0.        ,  0.        , -0.42470588]))"
      ]
     },
     "execution_count": 5,
     "metadata": {},
     "output_type": "execute_result"
    }
   ],
   "source": [
    "r = f(xs,zs,ys,0.3,0.4,np.array([-0.54338235,  0.  , -0.04433824]),np.array([0., 0., 0.31470588]),0.3,0.4)\n",
    "r"
   ]
  },
  {
   "cell_type": "code",
   "execution_count": 6,
   "metadata": {},
   "outputs": [
    {
     "ename": "NameError",
     "evalue": "name 'ys_pos' is not defined",
     "output_type": "error",
     "traceback": [
      "\u001b[0;31m---------------------------------------------------------------------------\u001b[0m",
      "\u001b[0;31mNameError\u001b[0m                                 Traceback (most recent call last)",
      "\u001b[0;32m<ipython-input-6-6e43b70bc824>\u001b[0m in \u001b[0;36m<module>\u001b[0;34m\u001b[0m\n\u001b[0;32m----> 1\u001b[0;31m \u001b[0mr\u001b[0m \u001b[0;34m=\u001b[0m \u001b[0mf\u001b[0m\u001b[0;34m(\u001b[0m\u001b[0mxs\u001b[0m\u001b[0;34m,\u001b[0m\u001b[0mzs\u001b[0m\u001b[0;34m,\u001b[0m\u001b[0mys_pos\u001b[0m\u001b[0;34m,\u001b[0m\u001b[0mys_neg\u001b[0m\u001b[0;34m,\u001b[0m\u001b[0;36m0.5\u001b[0m\u001b[0;34m,\u001b[0m\u001b[0;36m0.5\u001b[0m\u001b[0;34m,\u001b[0m\u001b[0mnp\u001b[0m\u001b[0;34m.\u001b[0m\u001b[0marray\u001b[0m\u001b[0;34m(\u001b[0m\u001b[0;34m[\u001b[0m \u001b[0;36m1.5\u001b[0m\u001b[0;34m,\u001b[0m  \u001b[0;36m1.4\u001b[0m\u001b[0;34m,\u001b[0m \u001b[0;34m-\u001b[0m\u001b[0;36m0.7\u001b[0m\u001b[0;34m]\u001b[0m\u001b[0;34m)\u001b[0m\u001b[0;34m,\u001b[0m\u001b[0mnp\u001b[0m\u001b[0;34m.\u001b[0m\u001b[0marray\u001b[0m\u001b[0;34m(\u001b[0m\u001b[0;34m[\u001b[0m\u001b[0;34m-\u001b[0m\u001b[0;36m0.9\u001b[0m\u001b[0;34m,\u001b[0m \u001b[0;34m-\u001b[0m\u001b[0;36m0.9\u001b[0m\u001b[0;34m,\u001b[0m  \u001b[0;36m0.4\u001b[0m\u001b[0;34m]\u001b[0m\u001b[0;34m)\u001b[0m\u001b[0;34m,\u001b[0m\u001b[0;36m0.5\u001b[0m\u001b[0;34m,\u001b[0m\u001b[0;36m0.5\u001b[0m\u001b[0;34m)\u001b[0m\u001b[0;34m\u001b[0m\u001b[0;34m\u001b[0m\u001b[0m\n\u001b[0m\u001b[1;32m      2\u001b[0m \u001b[0mr\u001b[0m\u001b[0;34m\u001b[0m\u001b[0;34m\u001b[0m\u001b[0m\n",
      "\u001b[0;31mNameError\u001b[0m: name 'ys_pos' is not defined"
     ]
    }
   ],
   "source": [
    "r = f(xs,zs,ys_pos,ys_neg,0.5,0.5,np.array([ 1.5,  1.4, -0.7]),np.array([-0.9, -0.9,  0.4]),0.5,0.5)\n",
    "r"
   ]
  },
  {
   "cell_type": "code",
   "execution_count": null,
   "metadata": {},
   "outputs": [],
   "source": [
    "r = f(xs,zs,ys_pos,ys_neg,0.5,0.5,r[-2],r[-1],0.5,0.5)\n",
    "r"
   ]
  },
  {
   "cell_type": "markdown",
   "metadata": {},
   "source": [
    "---"
   ]
  },
  {
   "cell_type": "code",
   "execution_count": null,
   "metadata": {},
   "outputs": [],
   "source": [
    "r = f(xs,zs,ys_pos,ys_neg,0.1,0.1,np.array([1,1,1]),np.array([1,1,1]),1,1)\n",
    "r"
   ]
  },
  {
   "cell_type": "code",
   "execution_count": null,
   "metadata": {},
   "outputs": [],
   "source": [
    "r = f(xs,zs,ys_pos,ys_neg,0.1,0.1,np.array([1,1,1]),np.array([1,1,1]),1,1)\n",
    "r"
   ]
  },
  {
   "cell_type": "markdown",
   "metadata": {},
   "source": [
    "---"
   ]
  },
  {
   "cell_type": "code",
   "execution_count": 34,
   "metadata": {},
   "outputs": [
    {
     "ename": "TypeError",
     "evalue": "'numpy.float64' object is not iterable",
     "output_type": "error",
     "traceback": [
      "\u001b[0;31m---------------------------------------------------------------------------\u001b[0m",
      "\u001b[0;31mTypeError\u001b[0m                                 Traceback (most recent call last)",
      "\u001b[0;32m<ipython-input-34-853a7df4c306>\u001b[0m in \u001b[0;36m<module>\u001b[0;34m\u001b[0m\n\u001b[1;32m      3\u001b[0m         \u001b[0;32mif\u001b[0m \u001b[0mx\u001b[0m\u001b[0;34m+\u001b[0m\u001b[0my\u001b[0m \u001b[0;34m<=\u001b[0m \u001b[0;36m1\u001b[0m\u001b[0;34m:\u001b[0m\u001b[0;34m\u001b[0m\u001b[0;34m\u001b[0m\u001b[0m\n\u001b[1;32m      4\u001b[0m             \u001b[0mr\u001b[0m \u001b[0;34m=\u001b[0m \u001b[0mf\u001b[0m\u001b[0;34m(\u001b[0m\u001b[0mxs\u001b[0m\u001b[0;34m,\u001b[0m\u001b[0mzs\u001b[0m\u001b[0;34m,\u001b[0m\u001b[0mys\u001b[0m\u001b[0;34m,\u001b[0m\u001b[0mx\u001b[0m\u001b[0;34m,\u001b[0m\u001b[0my\u001b[0m\u001b[0;34m,\u001b[0m\u001b[0;36m1\u001b[0m\u001b[0;34m,\u001b[0m\u001b[0;36m1\u001b[0m\u001b[0;34m)\u001b[0m\u001b[0;34m\u001b[0m\u001b[0;34m\u001b[0m\u001b[0m\n\u001b[0;32m----> 5\u001b[0;31m             \u001b[0marr\u001b[0m \u001b[0;34m=\u001b[0m \u001b[0;34m[\u001b[0m\u001b[0;34m*\u001b[0m\u001b[0mr\u001b[0m\u001b[0;34m[\u001b[0m\u001b[0;34m-\u001b[0m\u001b[0;36m2\u001b[0m\u001b[0;34m]\u001b[0m\u001b[0;34m,\u001b[0m\u001b[0;34m*\u001b[0m\u001b[0mr\u001b[0m\u001b[0;34m[\u001b[0m\u001b[0;34m-\u001b[0m\u001b[0;36m1\u001b[0m\u001b[0;34m]\u001b[0m\u001b[0;34m]\u001b[0m\u001b[0;34m\u001b[0m\u001b[0;34m\u001b[0m\u001b[0m\n\u001b[0m\u001b[1;32m      6\u001b[0m             print(\"{:2.1f} {:2.1f} :fx= {:+.4f}, {:+.4f}, \\u0394fx: {:.4f}; l \\u2208 [{:.2f},{:.2f}]\".\n\u001b[1;32m      7\u001b[0m                   format(x,y,r[0],x*y,abs(r[0]-x*y),min(arr),max(arr)))\n",
      "\u001b[0;31mTypeError\u001b[0m: 'numpy.float64' object is not iterable"
     ]
    }
   ],
   "source": [
    "for x in np.arange(0.1,1,0.1):\n",
    "    for y in np.arange(0.1,1,0.1):\n",
    "        if x+y <= 1:\n",
    "            r = f(xs,zs,ys,x,y,1,1)\n",
    "            arr = [*r[-2],*r[-1]]\n",
    "            print(\"{:2.1f} {:2.1f} :fx= {:+.4f}, {:+.4f}, \\u0394fx: {:.4f}; l \\u2208 [{:.2f},{:.2f}]\".\n",
    "                  format(x,y,r[0],x*y,abs(r[0]-x*y),min(arr),max(arr)))"
   ]
  },
  {
   "cell_type": "code",
   "execution_count": null,
   "metadata": {},
   "outputs": [],
   "source": [
    "for x in np.arange(0.1,1,0.1):\n",
    "    for y in np.arange(0.1,1,0.1):\n",
    "        if x+y <= 1:\n",
    "            r = f(xs,zs,ys_pos,ys_neg,x,y,np.array([0,0,0]),np.array([0,0,0]),x,y)\n",
    "            arr = [*r[-2],*r[-1]]\n",
    "            print(\"{:2.1f} {:2.1f} :fx= {:+.4f}, {:+.4f}, \\u0394fx: {:.4f}; l \\u2208 [{:.2f},{:.2f}]\".\n",
    "                  format(x,y,r[0],x*y,abs(r[0]-x*y),min(arr),max(arr)))"
   ]
  }
 ],
 "metadata": {
  "kernelspec": {
   "display_name": "Python 3",
   "language": "python",
   "name": "python3"
  },
  "language_info": {
   "codemirror_mode": {
    "name": "ipython",
    "version": 3
   },
   "file_extension": ".py",
   "mimetype": "text/x-python",
   "name": "python",
   "nbconvert_exporter": "python",
   "pygments_lexer": "ipython3",
   "version": "3.7.3"
  }
 },
 "nbformat": 4,
 "nbformat_minor": 4
}
