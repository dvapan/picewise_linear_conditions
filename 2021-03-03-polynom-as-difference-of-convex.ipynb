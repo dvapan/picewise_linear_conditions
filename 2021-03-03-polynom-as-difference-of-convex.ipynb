{
 "cells": [
  {
   "cell_type": "markdown",
   "metadata": {},
   "source": [
    "# Представление невыпуклого полинома разностью выпуклых"
   ]
  },
  {
   "cell_type": "markdown",
   "metadata": {},
   "source": [
    "Существует полином $y=xz$, который не является ни выпуклым ни вогнутым. Для расчета задач со смесями его необходимо представить суммой выпклого и невыпуклого полинома. Тогда его значение можно будет рассчитать через двойственно-прямую задачу линейного программирования, которая полностью определяется своими ограничениями и независит от конкретного функционала, что позволить встроить эти значения в качестве ограничений для более сложных задач."
   ]
  },
  {
   "cell_type": "markdown",
   "metadata": {},
   "source": [
    "Поскольку работы ведутся для задачи со смесями у нас появляются дополнительные ограничения: $0 \\le x,z \\le 1$, $0< x + z, <=1$."
   ]
  },
  {
   "cell_type": "markdown",
   "metadata": {},
   "source": [
    "## Проверка"
   ]
  },
  {
   "cell_type": "markdown",
   "metadata": {},
   "source": [
    "Существует выпуклая квадратичная форма $y = x^2 + xz + z^2$. Проверим на выпуклость через критерий сильвестра"
   ]
  },
  {
   "cell_type": "code",
   "execution_count": 1,
   "metadata": {},
   "outputs": [
    {
     "name": "stdout",
     "output_type": "stream",
     "text": [
      "IPython console for SymPy 1.6.2 (Python 3.8.5-64-bit) (ground types: gmpy)\n",
      "\n",
      "These commands were executed:\n",
      ">>> from __future__ import division\n",
      ">>> from sympy import *\n",
      ">>> x, y, z, t = symbols('x y z t')\n",
      ">>> k, m, n = symbols('k m n', integer=True)\n",
      ">>> f, g, h = symbols('f g h', cls=Function)\n",
      ">>> init_printing()\n",
      "\n",
      "Documentation can be found at https://docs.sympy.org/1.6.2/\n",
      "\n"
     ]
    }
   ],
   "source": [
    "from sympy import init_session\n",
    "init_session()"
   ]
  },
  {
   "cell_type": "code",
   "execution_count": 2,
   "metadata": {},
   "outputs": [
    {
     "data": {
      "image/png": "[encoded data removed]",
      "text/latex": [
       "$\\displaystyle \\left( \\left[\\begin{matrix}2 & 1\\\\1 & 2\\end{matrix}\\right], \\  2, \\  3\\right)$"
      ],
      "text/plain": [
       "⎛⎡2  1⎤      ⎞\n",
       "⎜⎢    ⎥, 2, 3⎟\n",
       "⎝⎣1  2⎦      ⎠"
      ]
     },
     "execution_count": 2,
     "metadata": {},
     "output_type": "execute_result"
    }
   ],
   "source": [
    "y = x**2 + x*z + z**2\n",
    "h = hessian(y,[x,z])\n",
    "h,h[0,0],det(h)"
   ]
  },
  {
   "cell_type": "markdown",
   "metadata": {},
   "source": [
    "Отлично, форма положительно определена. Теперь проверим близкую к ней квадратичную форму, такую, чтобы их разность давала искомую функцию: $y = x^2 + z^2$"
   ]
  },
  {
   "cell_type": "code",
   "execution_count": 3,
   "metadata": {},
   "outputs": [
    {
     "data": {
      "image/png": "[encoded data removed]",
      "text/latex": [
       "$\\displaystyle \\left( \\left[\\begin{matrix}2 & 0\\\\0 & 2\\end{matrix}\\right], \\  2, \\  4\\right)$"
      ],
      "text/plain": [
       "⎛⎡2  0⎤      ⎞\n",
       "⎜⎢    ⎥, 2, 4⎟\n",
       "⎝⎣0  2⎦      ⎠"
      ]
     },
     "execution_count": 3,
     "metadata": {},
     "output_type": "execute_result"
    }
   ],
   "source": [
    "y = x**2 + z**2\n",
    "h = hessian(y,[x,z])\n",
    "h,h[0,0],det(h)"
   ]
  },
  {
   "cell_type": "markdown",
   "metadata": {},
   "source": [
    "## Построение"
   ]
  },
  {
   "cell_type": "code",
   "execution_count": 4,
   "metadata": {},
   "outputs": [],
   "source": [
    "from cylp.cy import CyClpSimplex\n",
    "from cylp.py.modeling.CyLPModel import CyLPArray\n",
    "\n",
    "import numpy as np\n",
    "\n",
    "from mpl_toolkits.mplot3d import axes3d\n",
    "import matplotlib.pyplot as plt\n"
   ]
  },
  {
   "cell_type": "markdown",
   "metadata": {},
   "source": [
    "Для начала модифицируем нашу функцию рассчета из прошлой [работы](lp_piecewise_functions.ipynb)"
   ]
  },
  {
   "cell_type": "code",
   "execution_count": 5,
   "metadata": {},
   "outputs": [],
   "source": [
    "def plppd2dcc(xs,zs,ys_pos,ys_neg,x_0,z_0):\n",
    "    x,z,y_pos,y_neg = xs,zs,ys_pos,ys_neg\n",
    "    dim_p = len(x)\n",
    "    rhs_p = np.array([x_0,z_0, 1], dtype=np.double)\n",
    "    dim_d = len(rhs_p) \n",
    "    \n",
    "    s_pos = CyClpSimplex()\n",
    "    u_pos = s_pos.addVariable('u', dim_p)\n",
    "    l_pos = s_pos.addVariable('l', dim_d)\n",
    "\n",
    "    s_neg = CyClpSimplex()\n",
    "    u_neg = s_neg.addVariable('u', dim_p)\n",
    "    l_neg = s_neg.addVariable('l', dim_d)\n",
    "\n",
    "\n",
    "    A_p_pos = np.vstack([y_pos,\n",
    "                         x,\n",
    "                         z,\n",
    "                         np.ones(dim_p)])\n",
    "    A_p_neg = np.vstack([y_neg,\n",
    "                         x,\n",
    "                         z,\n",
    "                         np.ones(dim_p)])\n",
    "\n",
    "    A_p_pos = np.matrix(A_p_pos)\n",
    "    A_p_neg = np.matrix(A_p_neg)\n",
    "\n",
    "    b_p = CyLPArray(np.hstack([0,rhs_p]))\n",
    "    b_d_pos = CyLPArray(y_pos)\n",
    "    b_d_neg = CyLPArray(y_neg)\n",
    "    \n",
    "    A_d = np.hstack([x.reshape(-1, 1),\n",
    "                     z.reshape(-1, 1),\n",
    "                     np.ones(len(x)).reshape(-1, 1)])\n",
    "    A_d = np.matrix(A_d)\n",
    "    b_d = CyLPArray(y)\n",
    "    \n",
    "    A_d1 = np.matrix(np.vstack([-rhs_p,np.zeros((3,3))]))\n",
    "    \n",
    "    s_pos += A_p_pos*u_pos + A_d1*l_pos  == b_p\n",
    "    s_neg += A_p_neg*u_neg + A_d1*l_neg  == b_p\n",
    "\n",
    "    for i in range(dim_p):\n",
    "        s_pos += u_pos[i] >= 0\n",
    "        s_neg += u_neg[i] >= 0\n",
    "\n",
    "    s_pos += A_d*l_pos <= b_d_pos\n",
    "    s_neg += A_d*l_neg >= b_d_neg\n",
    "    \n",
    "    s_pos.objective = u_pos[0]\n",
    "    s_neg.objective = u_neg[0]\n",
    "    \n",
    "    s_pos.primal()\n",
    "    s_neg.primal()\n",
    "    #print(s_pos.getStatusCode(),s_neg.getStatusCode())\n",
    "    cond_pos = s_pos.primalVariableSolution['u']\n",
    "    yr_pos = np.dot(cond_pos, y_pos)\n",
    "\n",
    "    cond_neg = s_neg.primalVariableSolution['u']\n",
    "    yr_neg = np.dot(cond_neg, y_neg)\n",
    "    return yr_pos + yr_neg"
   ]
  },
  {
   "cell_type": "code",
   "execution_count": 6,
   "metadata": {},
   "outputs": [
    {
     "data": {
      "image/png": "[encoded data removed]",
      "text/latex": [
       "$\\displaystyle 0.24999999999999978$"
      ],
      "text/plain": [
       "0.24999999999999978"
      ]
     },
     "execution_count": 6,
     "metadata": {},
     "output_type": "execute_result"
    }
   ],
   "source": [
    "xa,xb = 0,1\n",
    "za,zb = 0,1\n",
    "grid_step = 0.1\n",
    "x = np.arange(xa, xb, grid_step, dtype=np.double)\n",
    "z = np.arange(za, zb, grid_step, dtype=np.double)\n",
    "x,z = np.meshgrid(x, z)\n",
    "y_cvx = x**2 + x * z + z**2\n",
    "y_ccv = - x**2 - z**2\n",
    "\n",
    "x = x.flatten()\n",
    "z = z.flatten()\n",
    "y_cvx = y_cvx.flatten()\n",
    "y_ccv = y_ccv.flatten()\n",
    "\n",
    "mask = x+z <= 1\n",
    "\n",
    "x = x[mask]\n",
    "z = z[mask]\n",
    "y_cvx = y_cvx[mask]\n",
    "y_ccv = y_ccv[mask]\n",
    "plppd2dcc(x,z,y_cvx,y_ccv,0.5,0.5)"
   ]
  },
  {
   "cell_type": "markdown",
   "metadata": {},
   "source": [
    "На простом значении работает, теперь попробуем на всем множестве точек."
   ]
  },
  {
   "cell_type": "code",
   "execution_count": 7,
   "metadata": {},
   "outputs": [],
   "source": [
    "from tqdm.notebook import tqdm, trange\n",
    "import time    # to be used in loop iterations"
   ]
  },
  {
   "cell_type": "code",
   "execution_count": 8,
   "metadata": {},
   "outputs": [
    {
     "name": "stdout",
     "output_type": "stream",
     "text": [
      "Populating the interactive namespace from numpy and matplotlib\n"
     ]
    },
    {
     "name": "stderr",
     "output_type": "stream",
     "text": [
      "/home/dvapan/anaconda3/lib/python3.8/site-packages/IPython/core/magics/pylab.py:159: UserWarning: pylab import has clobbered these variables: ['sinc', 'nan', 'solve', 'prod', 'tanh', 'source', 'test', 'interactive', 'mod', 'diag', 'diff', 'trace', 'tan', 'fft', 'ones', 'array', 'det', 'minimum', 'poly', 'sin', 'cbrt', 'multinomial', 'reshape', 'beta', 'f', 'trunc', 'add', 'binomial', 'exp', 'zeros', 'floor', 'product', 'gcd', 'plotting', 'cos', 'power', 'sqrt', 're', 'transpose', 'eye', 'invert', 'roots', 'partition', 'vectorize', 'Line2D', 'Polygon', 'take', 'cosh', 'conjugate', 'seterr', 'var', 'log', 'sinh', 'pi', 'maximum', 'sign', 'gamma', 'plot', 'Number', 'lcm', 'flatten', 'ifft', 'Circle']\n",
      "`%matplotlib` prevents importing * from pylab and numpy\n",
      "  warn(\"pylab import has clobbered these variables: %s\"  % clobbered +\n"
     ]
    }
   ],
   "source": [
    "%pylab inline"
   ]
  },
  {
   "cell_type": "code",
   "execution_count": 9,
   "metadata": {},
   "outputs": [
    {
     "data": {
      "application/vnd.jupyter.widget-view+json": {
       "model_id": "85669be310e24b69a6b9fd70c1bbcf9a",
       "version_major": 2,
       "version_minor": 0
      },
      "text/plain": [
       "HBox(children=(HTML(value=''), FloatProgress(value=0.0, max=229.0), HTML(value='')))"
      ]
     },
     "metadata": {},
     "output_type": "display_data"
    },
    {
     "name": "stdout",
     "output_type": "stream",
     "text": [
      "\n"
     ]
    }
   ],
   "source": [
    "test_step = grid_step/2.\n",
    "xs = np.arange(xa, xb, test_step, dtype=np.double)\n",
    "zs = np.arange(za, zb, test_step, dtype=np.double)\n",
    "xs,zs = np.meshgrid(xs, zs)\n",
    "\n",
    "mask = xs+zs <= 1\n",
    "xs = xs[mask]\n",
    "zs = zs[mask]\n",
    "ys = np.empty(len(xs))\n",
    "\n",
    "ys = []\n",
    "lst = list(zip(xs,zs))\n",
    "for x0,z0 in tqdm(lst):\n",
    "    ys.append(plppd2dcc(x,z,y_cvx,y_ccv,x0,z0))\n",
    "ys = np.array(ys)\n",
    "\n",
    "xs = np.arange(xa, xb, test_step, dtype=np.double)\n",
    "zs = np.arange(za, zb, test_step, dtype=np.double)\n",
    "xs,zs = np.meshgrid(xs, zs)\n",
    "yy = np.empty_like(xs)\n",
    "mask = xs+zs <= 1"
   ]
  },
  {
   "cell_type": "code",
   "execution_count": 10,
   "metadata": {},
   "outputs": [
    {
     "data": {
      "text/plain": [
       "<mpl_toolkits.mplot3d.art3d.Line3DCollection at 0x7f78c5e93b20>"
      ]
     },
     "execution_count": 10,
     "metadata": {},
     "output_type": "execute_result"
    },
    {
     "data": {
      "image/png": "[encoded data removed]",
      "text/plain": [
       "<Figure size 432x288 with 1 Axes>"
      ]
     },
     "metadata": {
      "needs_background": "light"
     },
     "output_type": "display_data"
    }
   ],
   "source": [
    "yy[xs+zs > 1] = None\n",
    "yy[mask] = ys\n",
    "fig = plt.figure()\n",
    "ax = plt.axes(projection='3d')\n",
    "ax.plot_wireframe(xs, zs, yy)"
   ]
  },
  {
   "cell_type": "code",
   "execution_count": 11,
   "metadata": {},
   "outputs": [
    {
     "data": {
      "text/plain": [
       "[<matplotlib.lines.Line2D at 0x7f78c4d36130>]"
      ]
     },
     "execution_count": 11,
     "metadata": {},
     "output_type": "execute_result"
    },
    {
     "data": {
      "image/png": "[encoded data removed]",
      "text/plain": [
       "<Figure size 432x288 with 1 Axes>"
      ]
     },
     "metadata": {
      "needs_background": "light"
     },
     "output_type": "display_data"
    }
   ],
   "source": [
    "y_t = xs*zs\n",
    "y_t[xs+zs > 1] = None\n",
    "d = abs(y_t - yy)\n",
    "d = d[mask]\n",
    "plt.plot(d)"
   ]
  },
  {
   "cell_type": "code",
   "execution_count": 12,
   "metadata": {},
   "outputs": [
    {
     "name": "stdout",
     "output_type": "stream",
     "text": [
      "(0.05, 0.05)\n",
      "(0.15000000000000002, 0.05)\n",
      "(0.25, 0.05)\n",
      "(0.35000000000000003, 0.05)\n",
      "(0.45, 0.05)\n",
      "(0.55, 0.05)\n",
      "(0.65, 0.05)\n",
      "(0.75, 0.05)\n",
      "(0.8500000000000001, 0.05)\n",
      "(0.9500000000000001, 0.05)\n",
      "(0.05, 0.15000000000000002)\n",
      "(0.15000000000000002, 0.15000000000000002)\n",
      "(0.25, 0.15000000000000002)\n",
      "(0.35000000000000003, 0.15000000000000002)\n",
      "(0.45, 0.15000000000000002)\n",
      "(0.55, 0.15000000000000002)\n",
      "(0.65, 0.15000000000000002)\n",
      "(0.75, 0.15000000000000002)\n",
      "(0.8500000000000001, 0.15000000000000002)\n",
      "(0.05, 0.25)\n",
      "(0.15000000000000002, 0.25)\n",
      "(0.25, 0.25)\n",
      "(0.35000000000000003, 0.25)\n",
      "(0.45, 0.25)\n",
      "(0.55, 0.25)\n",
      "(0.65, 0.25)\n",
      "(0.75, 0.25)\n",
      "(0.05, 0.35000000000000003)\n",
      "(0.15000000000000002, 0.35000000000000003)\n",
      "(0.25, 0.35000000000000003)\n",
      "(0.35000000000000003, 0.35000000000000003)\n",
      "(0.45, 0.35000000000000003)\n",
      "(0.55, 0.35000000000000003)\n",
      "(0.65, 0.35000000000000003)\n",
      "(0.05, 0.45)\n",
      "(0.15000000000000002, 0.45)\n",
      "(0.25, 0.45)\n",
      "(0.35000000000000003, 0.45)\n",
      "(0.45, 0.45)\n",
      "(0.55, 0.45)\n",
      "(0.05, 0.55)\n",
      "(0.15000000000000002, 0.55)\n",
      "(0.25, 0.55)\n",
      "(0.35000000000000003, 0.55)\n",
      "(0.45, 0.55)\n",
      "(0.05, 0.65)\n",
      "(0.15000000000000002, 0.65)\n",
      "(0.25, 0.65)\n",
      "(0.35000000000000003, 0.65)\n",
      "(0.05, 0.75)\n",
      "(0.15000000000000002, 0.75)\n",
      "(0.25, 0.75)\n",
      "(0.05, 0.8500000000000001)\n",
      "(0.15000000000000002, 0.8500000000000001)\n",
      "(0.05, 0.9500000000000001)\n"
     ]
    }
   ],
   "source": [
    "print(*list(zip(xs[mask][d>0.0007],zs[mask][d>0.0007])), sep='\\n')"
   ]
  },
  {
   "cell_type": "code",
   "execution_count": 13,
   "metadata": {},
   "outputs": [
    {
     "data": {
      "image/png": "[encoded data removed]",
      "text/latex": [
       "$\\displaystyle \\left( 0.0375000000000002, \\  0.024375, \\  0.013125000000000199\\right)$"
      ],
      "text/plain": [
       "(0.0375000000000002, 0.024375, 0.013125000000000199)"
      ]
     },
     "execution_count": 13,
     "metadata": {},
     "output_type": "execute_result"
    }
   ],
   "source": [
    "plppd2dcc(x,z,y_cvx,y_ccv,0.975,0.025), 0.975*0.025, abs(plppd2dcc(x,z,y_cvx,y_ccv,0.975,0.025)- 0.975*0.025)"
   ]
  },
  {
   "cell_type": "code",
   "execution_count": null,
   "metadata": {},
   "outputs": [
    {
     "data": {
      "application/vnd.jupyter.widget-view+json": {
       "model_id": "e7ab20f6cb4e4859b0603564b95c77f0",
       "version_major": 2,
       "version_minor": 0
      },
      "text/plain": [
       "HBox(children=(HTML(value=''), FloatProgress(value=0.0, max=5149.0), HTML(value='')))"
      ]
     },
     "metadata": {},
     "output_type": "display_data"
    }
   ],
   "source": [
    "test_step = grid_step/10.\n",
    "xs = np.arange(xa, xb, test_step, dtype=np.double)\n",
    "zs = np.arange(za, zb, test_step, dtype=np.double)\n",
    "xs,zs = np.meshgrid(xs, zs)\n",
    "\n",
    "mask = xs+zs <= 1\n",
    "xs = xs[mask]\n",
    "zs = zs[mask]\n",
    "ys = np.empty(len(xs))\n",
    "\n",
    "ys = []\n",
    "lst = list(zip(xs,zs))\n",
    "for x0,z0 in tqdm(lst):\n",
    "    ys.append(plppd2dcc(x,z,y_cvx,y_ccv,x0,z0))\n",
    "ys = np.array(ys)\n",
    "\n",
    "xs = np.arange(xa, xb, test_step, dtype=np.double)\n",
    "zs = np.arange(za, zb, test_step, dtype=np.double)\n",
    "xs,zs = np.meshgrid(xs, zs)\n",
    "yy = np.empty_like(xs)\n",
    "mask = xs+zs <= 1"
   ]
  },
  {
   "cell_type": "code",
   "execution_count": null,
   "metadata": {},
   "outputs": [],
   "source": [
    "yy[xs+zs > 1] = None\n",
    "yy[mask] = ys\n",
    "fig = plt.figure()\n",
    "ax = plt.axes(projection='3d')\n",
    "\n",
    "ax.plot_wireframe(xs, zs, yy)"
   ]
  },
  {
   "cell_type": "code",
   "execution_count": null,
   "metadata": {},
   "outputs": [],
   "source": [
    "y_t = xs*zs\n",
    "y_t[xs+zs > 1] = None\n",
    "d = abs(y_t - yy)\n",
    "d = d[mask]\n",
    "plt.plot(d)"
   ]
  },
  {
   "cell_type": "code",
   "execution_count": null,
   "metadata": {},
   "outputs": [],
   "source": [
    "print(*list(zip(xs[mask][d>0.005],zs[mask][d>0.005])), sep='\\n')"
   ]
  },
  {
   "cell_type": "code",
   "execution_count": null,
   "metadata": {},
   "outputs": [],
   "source": [
    "plppd2dcc(x,z,y_cvx,y_ccv,0.99,0.01), 0.99*0.01, abs(plppd2dcc(x,z,y_cvx,y_ccv,0.99,0.01)- 0.99*0.01)"
   ]
  },
  {
   "cell_type": "markdown",
   "metadata": {},
   "source": [
    "## Вывод\n",
    "\n",
    "При разбиении функции $y=xz$ на разнось выпуклых функций получаем весьма приемлемую точность приближения."
   ]
  }
 ],
 "metadata": {
  "kernelspec": {
   "display_name": "Python 3",
   "language": "python",
   "name": "python3"
  },
  "language_info": {
   "codemirror_mode": {
    "name": "ipython",
    "version": 3
   },
   "file_extension": ".py",
   "mimetype": "text/x-python",
   "name": "python",
   "nbconvert_exporter": "python",
   "pygments_lexer": "ipython3",
   "version": "3.8.5"
  }
 },
 "nbformat": 4,
 "nbformat_minor": 4
}
