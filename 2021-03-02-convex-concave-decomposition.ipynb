{
 "cells": [
  {
   "cell_type": "markdown",
   "metadata": {},
   "source": [
    "Перевод статьи"
   ]
  },
  {
   "cell_type": "markdown",
   "metadata": {},
   "source": [
    "# Декомпозиция невыпуклых полиномов алгебраическим подходом"
   ]
  },
  {
   "cell_type": "markdown",
   "metadata": {},
   "source": [
    "**Abstract** Рассматриваем задачу разложения многомерного многочлена как разности двух выпуклых многочленов. Вводим алгебраические методы, которые сводят эту задачу к линейному программированию, конусу второго порядка и полуопределенному программированию. Это позволяет нам оптимизировать подмножества допустимых разностей выпуклых разложений (dcds) и находить те, которые ускоряют выпукло-вогнутую процедуру (CCP). Тем не менее, мы доказываем, что оптимизация для всего набора dcds является NP-трудной.\n",
    "\n",
    "**Keywords** Difference of convex programming, conic relaxations, polynomial optimization, algebraic decomposition of polynomials"
   ]
  },
  {
   "cell_type": "markdown",
   "metadata": {},
   "source": [
    "## Введение"
   ]
  },
  {
   "cell_type": "markdown",
   "metadata": {},
   "source": [
    "Выпуклое программирование разницы функций является оптимизационной задачей вида:\n",
    "\n",
    "\\begin{align}\n",
    "&\\min f_0(x)\\\\ \\tag{1}\n",
    "&f_i(x) \\le 0, i = 1,\\ldots,m,\n",
    "\\end{align}\n",
    "\n",
    "\n",
    "где $f_0,\\ldots,f_m$ являются разностями выпуклых функций; т.е.\n",
    "\n",
    "\\begin{equation}\n",
    "f_i(x) = g_i(x) - h_i(x), i = 0, \\ldots, m\n",
    "\\tag{2}\n",
    "\\end{equation}\n",
    "\n",
    "и $g_i: \\mathbb{R}^n \\rightarrow \\mathbb{R}, h_i: \\mathbb{R}^n \\rightarrow \\mathbb{R} $ выпуклые функции. Класс функций, которые могут быть записаны как разность выпуклых функций, очень широк и включает, например, все функции, дважды непрерывно дифференцируемые [18], [22]. Более того, любая непрерывная функция над компактом является равномерным пределом последовательности dc функций; см., например, ссылку [25], где обсуждаются некоторые свойства dc функций."
   ]
  }
 ],
 "metadata": {
  "kernelspec": {
   "display_name": "Python 3",
   "language": "python",
   "name": "python3"
  },
  "language_info": {
   "codemirror_mode": {
    "name": "ipython",
    "version": 3
   },
   "file_extension": ".py",
   "mimetype": "text/x-python",
   "name": "python",
   "nbconvert_exporter": "python",
   "pygments_lexer": "ipython3",
   "version": "3.8.5"
  }
 },
 "nbformat": 4,
 "nbformat_minor": 4
}
