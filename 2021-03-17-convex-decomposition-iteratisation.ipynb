{
 "cells": [
  {
   "cell_type": "markdown",
   "metadata": {},
   "source": [
    "# Попытка построить иттеративный процесс"
   ]
  },
  {
   "cell_type": "markdown",
   "metadata": {},
   "source": [
    "Для начала, на основе вычислений относительно функции $xz$ получим новые значения координат"
   ]
  },
  {
   "cell_type": "code",
   "execution_count": 1,
   "metadata": {},
   "outputs": [
    {
     "name": "stdout",
     "output_type": "stream",
     "text": [
      "Populating the interactive namespace from numpy and matplotlib\n"
     ]
    }
   ],
   "source": [
    "from cylp.cy import CyClpSimplex\n",
    "from cylp.py.modeling.CyLPModel import CyLPArray\n",
    "\n",
    "import numpy as np\n",
    "import pandas as pd\n",
    "%pylab inline"
   ]
  },
  {
   "cell_type": "code",
   "execution_count": 2,
   "metadata": {},
   "outputs": [],
   "source": [
    "xa,xb = 0,1\n",
    "za,zb = 0,1\n",
    "grid_step = 0.01\n",
    "xa_ext = xa - grid_step\n",
    "xb_ext = xb + grid_step\n",
    "za_ext = za - grid_step\n",
    "zb_ext = zb + grid_step\n",
    "\n",
    "\n",
    "x = np.arange(xa_ext, xb_ext, grid_step, dtype=np.double)\n",
    "z = np.arange(za_ext, zb_ext, grid_step, dtype=np.double)\n",
    "x,z = np.meshgrid(x, z)\n",
    "y_cvx = x**2 + x * z + z**2\n",
    "y_ccv = - x**2 - z**2\n",
    "\n",
    "x = x.flatten()\n",
    "z = z.flatten()\n",
    "y_cvx = y_cvx.flatten()\n",
    "y_ccv = y_ccv.flatten()\n",
    "\n",
    "mask = x+z <= 1+grid_step\n",
    "\n",
    "xs = x[mask]\n",
    "zs = z[mask]\n",
    "ys_pos = y_cvx[mask]\n",
    "ys_neg = y_ccv[mask]"
   ]
  },
  {
   "cell_type": "code",
   "execution_count": 3,
   "metadata": {},
   "outputs": [],
   "source": [
    "def f(x,z,y_pos,y_neg,x_0,z_0,l_01,l_02,bx, bz):\n",
    "    dim_p = len(x)\n",
    "    rhs_p = np.array([x_0,z_0, 1], dtype=np.double)\n",
    "    dim_d = len(rhs_p) \n",
    "\n",
    "    s_pos = CyClpSimplex()\n",
    "    u_pos = s_pos.addVariable('u', dim_p)\n",
    "    l_pos = s_pos.addVariable('l', dim_d)\n",
    "\n",
    "    s_neg = CyClpSimplex()\n",
    "    u_neg = s_neg.addVariable('u', dim_p)\n",
    "    l_neg = s_neg.addVariable('l', dim_d)\n",
    "\n",
    "\n",
    "    A_p_pos = np.vstack([y_pos,\n",
    "                         x,\n",
    "                         z,\n",
    "                         np.ones(dim_p)])\n",
    "    A_p_neg = np.vstack([y_neg,\n",
    "                         x,\n",
    "                         z,\n",
    "                         np.ones(dim_p)])\n",
    "\n",
    "    A_p_pos = np.matrix(A_p_pos)\n",
    "    A_p_neg = np.matrix(A_p_neg)\n",
    "\n",
    "    b_p = CyLPArray(np.hstack([0,rhs_p]))\n",
    "    b_d_pos = CyLPArray(y_pos)\n",
    "    b_d_neg = CyLPArray(y_neg)\n",
    "\n",
    "    A_d = np.hstack([x.reshape(-1, 1),\n",
    "                     z.reshape(-1, 1),\n",
    "                     np.ones(len(x)).reshape(-1, 1)])\n",
    "    A_d = np.matrix(A_d)\n",
    "\n",
    "\n",
    "    # A_d1 = np.matrix(np.vstack([-rhs_p,np.zeros((3,3))]))\n",
    "    t = np.array([1, 1, 1], dtype=np.double)\n",
    "    A_d1 = np.matrix(np.vstack([-t,np.zeros((3,3))]))\n",
    "\n",
    "    dx = bx - x_0\n",
    "    dz = bz - z_0\n",
    "    t = np.array([dx, dz, 0], dtype=np.double)\n",
    "    A_d2 = np.matrix(np.vstack([t,np.zeros((3,3))]))\n",
    "\n",
    "    #l_0 = np.array([1, 1, 1], dtype=np.double)\n",
    "    \n",
    "    s_pos += A_p_pos*u_pos + np.dot(A_d1,l_01) + A_d1*l_pos + np.dot(A_d2,l_01) == b_p\n",
    "    s_neg += A_p_neg*u_neg + np.dot(A_d1,l_02) + A_d1*l_neg + np.dot(A_d2,l_02) == b_p\n",
    "\n",
    "    for i in range(dim_p):\n",
    "        s_pos += u_pos[i] >= 0\n",
    "        s_neg += u_neg[i] >= 0\n",
    "\n",
    "    s_pos += A_d*l_pos <= b_d_pos\n",
    "    s_neg += A_d*l_neg >= b_d_neg\n",
    "\n",
    "    s_pos.objective = u_pos[0]\n",
    "    s_neg.objective = u_neg[0]\n",
    "\n",
    "    s_pos.primal()\n",
    "    s_neg.primal()\n",
    "\n",
    "    cond_pos = s_pos.primalVariableSolution['u']\n",
    "    yr_pos = np.dot(cond_pos, y_pos)\n",
    "\n",
    "    cond_neg = s_neg.primalVariableSolution['u']\n",
    "    yr_neg = np.dot(cond_neg, y_neg)\n",
    "    return yr_pos + yr_neg, x_0*z_0, s_pos, s_neg"
   ]
  },
  {
   "cell_type": "code",
   "execution_count": 4,
   "metadata": {},
   "outputs": [
    {
     "data": {
      "text/plain": [
       "(0.007316691049341663,\n",
       " 0.010000000000000002,\n",
       " {'u': array([0., 0., 0., ..., 0., 0., 0.]),\n",
       "  'l': array([ 0.04179662,  0.        , -0.0005539 ])},\n",
       " {'u': array([0., 0., 0., ..., 0., 0., 0.]),\n",
       "  'l': array([-0.03421023,  0.        ,  0.0002842 ])})"
      ]
     },
     "execution_count": 4,
     "metadata": {},
     "output_type": "execute_result"
    }
   ],
   "source": [
    "r = f(xs,zs,ys_pos,ys_neg,0.1,0.1,np.array([0,0,0]),np.array([0,0,0]),0.1,0.9)\n",
    "(r[0],r[1],r[2].primalVariableSolution, r[3].primalVariableSolution)"
   ]
  },
  {
   "cell_type": "code",
   "execution_count": 5,
   "metadata": {},
   "outputs": [
    {
     "data": {
      "text/plain": [
       "(0.007316691049341663,\n",
       " 0.010000000000000002,\n",
       " {'u': array([0., 0., 0., ..., 0., 0., 0.]),\n",
       "  'l': array([ 0.04179662,  0.        , -0.0005539 ])},\n",
       " {'u': array([0., 0., 0., ..., 0., 0., 0.]),\n",
       "  'l': array([-0.03421023,  0.        ,  0.0002842 ])})"
      ]
     },
     "execution_count": 5,
     "metadata": {},
     "output_type": "execute_result"
    }
   ],
   "source": [
    "r = f(xs,zs,ys_pos,ys_neg,0.1,0.1,np.array([0.04179662,  0.        , -0.0005539]),np.array([-0.03421023,  0.        ,  0.0002842]),1,1)\n",
    "(r[0],r[1],r[2].primalVariableSolution, r[3].primalVariableSolution)"
   ]
  },
  {
   "cell_type": "code",
   "execution_count": null,
   "metadata": {},
   "outputs": [
    {
     "name": "stdout",
     "output_type": "stream",
     "text": [
      "0.1 0.1 :fx= +0.0073, +0.0100, Δfx: 0.0027; l ∈ [-0.03,0.04]\n",
      "0.1 0.2 :fx= +0.0248, +0.0200, Δfx: 0.0048; l ∈ [-0.06,0.08]\n",
      "0.1 0.3 :fx= +0.0517, +0.0300, Δfx: 0.0217; l ∈ [-0.11,0.12]\n",
      "0.1 0.4 :fx= +0.0474, +0.0400, Δfx: 0.0074; l ∈ [-0.15,0.17]\n",
      "0.1 0.5 :fx= +0.0280, +0.0500, Δfx: 0.0220; l ∈ [-0.33,0.17]\n",
      "0.1 0.6 :fx= +0.0540, +0.0600, Δfx: 0.0060; l ∈ [-0.41,0.29]\n",
      "0.1 0.7 :fx= +0.0734, +0.0700, Δfx: 0.0034; l ∈ [-0.49,0.38]\n",
      "0.1 0.8 :fx= +0.0957, +0.0800, Δfx: 0.0157; l ∈ [-0.63,0.46]\n",
      "0.1 0.9 :fx= +0.1054, +0.0900, Δfx: 0.0154; l ∈ [-0.79,0.59]\n"
     ]
    }
   ],
   "source": [
    "for x in np.arange(0.1,1,0.1):\n",
    "    for y in np.arange(0.1,1,0.1):\n",
    "        if x+y <= 1:\n",
    "            r = f(xs,zs,ys_pos,ys_neg,x,y,np.array([1,1,1]),np.array([1,1,1]),0.1,0.9)\n",
    "            arr = [*r[-2].primalVariableSolution['l'],*r[-1].primalVariableSolution['l']]\n",
    "            print(\"{:2.1f} {:2.1f} :fx= {:+.4f}, {:+.4f}, \\u0394fx: {:.4f}; l \\u2208 [{:.2f},{:.2f}]\".\n",
    "                  format(x,y,r[0],x*y,abs(r[0]-x*y),min(arr),max(arr)))"
   ]
  }
 ],
 "metadata": {
  "kernelspec": {
   "display_name": "Python 3",
   "language": "python",
   "name": "python3"
  },
  "language_info": {
   "codemirror_mode": {
    "name": "ipython",
    "version": 3
   },
   "file_extension": ".py",
   "mimetype": "text/x-python",
   "name": "python",
   "nbconvert_exporter": "python",
   "pygments_lexer": "ipython3",
   "version": "3.7.3"
  }
 },
 "nbformat": 4,
 "nbformat_minor": 4
}
