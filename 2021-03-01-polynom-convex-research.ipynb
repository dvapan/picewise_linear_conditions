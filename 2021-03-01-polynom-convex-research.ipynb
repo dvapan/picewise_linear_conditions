{
 "cells": [
  {
   "cell_type": "markdown",
   "metadata": {},
   "source": [
    "# Выпуклость полинома"
   ]
  },
  {
   "cell_type": "markdown",
   "metadata": {},
   "source": [
    "Попробуем найти здесь символьное выражение для определения выпуклости полинома в заданных точках в зависимости от его коэффициентов"
   ]
  },
  {
   "cell_type": "code",
   "execution_count": 25,
   "metadata": {},
   "outputs": [
    {
     "name": "stdout",
     "output_type": "stream",
     "text": [
      "IPython console for SymPy 1.6.2 (Python 3.8.5-64-bit) (ground types: gmpy)\n",
      "\n",
      "These commands were executed:\n",
      ">>> from __future__ import division\n",
      ">>> from sympy import *\n",
      ">>> x, y, z, t = symbols('x y z t')\n",
      ">>> k, m, n = symbols('k m n', integer=True)\n",
      ">>> f, g, h = symbols('f g h', cls=Function)\n",
      ">>> init_printing()\n",
      "\n",
      "Documentation can be found at https://docs.sympy.org/1.6.2/\n",
      "\n"
     ]
    }
   ],
   "source": [
    "from sympy import init_session\n",
    "init_session()\n",
    "\n",
    "import numpy as np\n",
    "from itertools import combinations_with_replacement as cr\n",
    "from scipy.special import binom"
   ]
  },
  {
   "cell_type": "markdown",
   "metadata": {},
   "source": [
    "Для расчетов использую порядок вычисления степеней, который используется в коде, по вычислению полиномов"
   ]
  },
  {
   "cell_type": "code",
   "execution_count": 36,
   "metadata": {},
   "outputs": [],
   "source": [
    "def powers(order, dim):\n",
    "    out = np.zeros((0, dim),dtype=int)\n",
    "    for p in range(order + 1):\n",
    "        if p == 0:\n",
    "            outi = np.zeros((1, dim), dtype=int)\n",
    "            out = np.vstack((out, outi))\n",
    "        else:\n",
    "            outi = np.array([sum(i) for i in cr(np.eye(dim, dtype=int), p)])\n",
    "            out = np.vstack((out, outi))\n",
    "    return out"
   ]
  },
  {
   "cell_type": "code",
   "execution_count": 43,
   "metadata": {},
   "outputs": [
    {
     "data": {
      "image/png": "[encoded data removed]",
      "text/latex": [
       "$\\displaystyle a_{0} + a_{1} x + a_{2} y + a_{3} x^{2} + a_{4} x y + a_{5} y^{2} + a_{6} x^{3} + a_{7} x^{2} y + a_{8} x y^{2} + a_{9} y^{3}$"
      ],
      "text/plain": [
       "                       2                2       3       2           2       3\n",
       "a₀ + a₁⋅x + a₂⋅y + a₃⋅x  + a₄⋅x⋅y + a₅⋅y  + a₆⋅x  + a₇⋅x ⋅y + a₈⋅x⋅y  + a₉⋅y "
      ]
     },
     "execution_count": 43,
     "metadata": {},
     "output_type": "execute_result"
    }
   ],
   "source": [
    "order = 3\n",
    "dim = 2\n",
    "\n",
    "count = int(binom(order+dim, dim))\n",
    "\n",
    "a = symbols('a:{}'.format(count))\n",
    "pws = powers(order,dim)\n",
    "p = 0\n",
    "i = 0\n",
    "for px,py in pws:\n",
    "    p += a[i] * x**px * y**py\n",
    "    i += 1\n",
    "p"
   ]
  },
  {
   "cell_type": "code",
   "execution_count": 44,
   "metadata": {},
   "outputs": [
    {
     "data": {
      "image/png": "[encoded data removed]",
      "text/latex": [
       "$\\displaystyle \\left[\\begin{matrix}2 a_{3} + 6 a_{6} x + 2 a_{7} y & a_{4} + 2 a_{7} x + 2 a_{8} y\\\\a_{4} + 2 a_{7} x + 2 a_{8} y & 2 a_{5} + 2 a_{8} x + 6 a_{9} y\\end{matrix}\\right]$"
      ],
      "text/plain": [
       "⎡2⋅a₃ + 6⋅a₆⋅x + 2⋅a₇⋅y   a₄ + 2⋅a₇⋅x + 2⋅a₈⋅y ⎤\n",
       "⎢                                              ⎥\n",
       "⎣ a₄ + 2⋅a₇⋅x + 2⋅a₈⋅y   2⋅a₅ + 2⋅a₈⋅x + 6⋅a₉⋅y⎦"
      ]
     },
     "execution_count": 44,
     "metadata": {},
     "output_type": "execute_result"
    }
   ],
   "source": [
    "hessian(p,[x,y])"
   ]
  },
  {
   "cell_type": "code",
   "execution_count": 45,
   "metadata": {},
   "outputs": [
    {
     "data": {
      "image/png": "[encoded data removed]",
      "text/latex": [
       "$\\displaystyle 4 a_{3} a_{5} + 4 a_{3} a_{8} x + 12 a_{3} a_{9} y - a_{4}^{2} - 4 a_{4} a_{7} x - 4 a_{4} a_{8} y + 12 a_{5} a_{6} x + 4 a_{5} a_{7} y + 12 a_{6} a_{8} x^{2} + 36 a_{6} a_{9} x y - 4 a_{7}^{2} x^{2} - 4 a_{7} a_{8} x y + 12 a_{7} a_{9} y^{2} - 4 a_{8}^{2} y^{2}$"
      ],
      "text/plain": [
       "                                     2                                        \n",
       "4⋅a₃⋅a₅ + 4⋅a₃⋅a₈⋅x + 12⋅a₃⋅a₉⋅y - a₄  - 4⋅a₄⋅a₇⋅x - 4⋅a₄⋅a₈⋅y + 12⋅a₅⋅a₆⋅x + \n",
       "\n",
       "                      2                      2  2                           2 \n",
       "4⋅a₅⋅a₇⋅y + 12⋅a₆⋅a₈⋅x  + 36⋅a₆⋅a₉⋅x⋅y - 4⋅a₇ ⋅x  - 4⋅a₇⋅a₈⋅x⋅y + 12⋅a₇⋅a₉⋅y  \n",
       "\n",
       "      2  2\n",
       "- 4⋅a₈ ⋅y "
      ]
     },
     "execution_count": 45,
     "metadata": {},
     "output_type": "execute_result"
    }
   ],
   "source": [
    "det(hessian(p,[x,y]))"
   ]
  }
 ],
 "metadata": {
  "kernelspec": {
   "display_name": "Python 3",
   "language": "python",
   "name": "python3"
  },
  "language_info": {
   "codemirror_mode": {
    "name": "ipython",
    "version": 3
   },
   "file_extension": ".py",
   "mimetype": "text/x-python",
   "name": "python",
   "nbconvert_exporter": "python",
   "pygments_lexer": "ipython3",
   "version": "3.8.5"
  }
 },
 "nbformat": 4,
 "nbformat_minor": 4
}
