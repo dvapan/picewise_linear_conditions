{
 "cells": [
  {
   "cell_type": "markdown",
   "metadata": {},
   "source": [
    "# Проверка различных значений"
   ]
  },
  {
   "cell_type": "markdown",
   "metadata": {},
   "source": [
    "При создании выпукло-двойственной задачи мы дважды используем значения $x_0, z_0$. Один раз они являются ограничениями правой части, другой - коэффициентами.\n",
    "\n",
    "При этом нам бы хотелось иметь возможность менять ограничеия правой части и при этом оставлять неизменными коэффициенты. Тогда получится встраивать такие ограничения в симплекс метод.\n",
    "\n",
    "Попробуем заменить в ограничениях, которое отображает равенство целевых функций $x$ на $x_0 + \\Delta x$ и $l$ на $l_0 + \\Delta l$"
   ]
  },
  {
   "cell_type": "code",
   "execution_count": 1,
   "metadata": {},
   "outputs": [
    {
     "name": "stdout",
     "output_type": "stream",
     "text": [
      "Populating the interactive namespace from numpy and matplotlib\n"
     ]
    }
   ],
   "source": [
    "from cylp.cy import CyClpSimplex\n",
    "from cylp.py.modeling.CyLPModel import CyLPArray\n",
    "\n",
    "import numpy as np\n",
    "%pylab inline"
   ]
  },
  {
   "cell_type": "code",
   "execution_count": 2,
   "metadata": {},
   "outputs": [],
   "source": [
    "xa,xb = 0,1\n",
    "za,zb = 0,1\n",
    "grid_step = 0.1\n",
    "xa_ext = xa - grid_step\n",
    "xb_ext = xb + grid_step\n",
    "za_ext = za - grid_step\n",
    "zb_ext = zb + grid_step\n",
    "\n",
    "\n",
    "x = np.arange(xa_ext, xb_ext, grid_step, dtype=np.double)\n",
    "z = np.arange(za_ext, zb_ext, grid_step, dtype=np.double)\n",
    "x,z = np.meshgrid(x, z)\n",
    "y_cvx = x**2 + x * z + z**2\n",
    "y_ccv = - x**2 - z**2\n",
    "\n",
    "x = x.flatten()\n",
    "z = z.flatten()\n",
    "y_cvx = y_cvx.flatten()\n",
    "y_ccv = y_ccv.flatten()\n",
    "\n",
    "mask = x+z <= 1+grid_step\n",
    "\n",
    "xs = x[mask]\n",
    "zs = z[mask]\n",
    "ys_pos = y_cvx[mask]\n",
    "ys_neg = y_ccv[mask]"
   ]
  },
  {
   "cell_type": "markdown",
   "metadata": {},
   "source": [
    "Для начала узнаем в как варьируется $l$"
   ]
  },
  {
   "cell_type": "code",
   "execution_count": 28,
   "metadata": {},
   "outputs": [],
   "source": [
    "def f(xs, zs, y_pos, y_neg, x, z, l_01, l_02, bx, bz):\n",
    "    dim_p = len(xs)\n",
    "    rhs_p = np.array([x,z, 1], dtype=np.double)\n",
    "    dim_d = len(rhs_p) \n",
    "\n",
    "    s_pos = CyClpSimplex()\n",
    "    u_pos = s_pos.addVariable('u', dim_p)\n",
    "    l_pos = s_pos.addVariable('l', dim_d)\n",
    "\n",
    "    s_neg = CyClpSimplex()\n",
    "    u_neg = s_neg.addVariable('u', dim_p)\n",
    "    l_neg = s_neg.addVariable('l', dim_d)\n",
    "\n",
    "\n",
    "    A_p_pos = np.vstack([y_pos,\n",
    "                         xs,\n",
    "                         zs,\n",
    "                         np.ones(dim_p)])\n",
    "    A_p_neg = np.vstack([y_neg,\n",
    "                         xs,\n",
    "                         zs,\n",
    "                         np.ones(dim_p)])\n",
    "\n",
    "    A_p_pos = np.matrix(A_p_pos)\n",
    "    A_p_neg = np.matrix(A_p_neg)\n",
    "\n",
    "    b_p = CyLPArray(np.hstack([0,rhs_p]))\n",
    "    b_d_pos = CyLPArray(y_pos)\n",
    "    b_d_neg = CyLPArray(y_neg)\n",
    "\n",
    "    A_d = np.hstack([xs.reshape(-1, 1),\n",
    "                     zs.reshape(-1, 1),\n",
    "                     np.ones(len(xs)).reshape(-1, 1)])\n",
    "    A_d = np.matrix(A_d)\n",
    "\n",
    "\n",
    "    # A_d1 = np.matrix(np.vstack([-rhs_p,np.zeros((3,3))]))\n",
    "    t = np.array([bx, bz, 1], dtype=np.double)\n",
    "    A_d1 = np.matrix(np.vstack([t,np.zeros((3,3))]))\n",
    "\n",
    "#     dx = bx - x_0\n",
    "#     dz = bz - z_0\n",
    "    t = np.array([x, z, 0], dtype=np.double)\n",
    "    A_d2 = np.matrix(np.vstack([t,np.zeros((3,3))]))\n",
    "\n",
    "    #l_0 = np.array([1, 1, 1], dtype=np.double)\n",
    "    \n",
    "    s_pos += A_p_pos*u_pos - np.dot(A_d1,l_01) + A_d1*l_pos + np.dot(A_d2,l_01) == b_p\n",
    "    s_neg += A_p_neg*u_neg - np.dot(A_d1,l_02) + A_d1*l_neg + np.dot(A_d2,l_02) == b_p\n",
    "\n",
    "    for i in range(dim_p):\n",
    "        s_pos += u_pos[i] >= 0\n",
    "        s_neg += u_neg[i] >= 0\n",
    "\n",
    "    s_pos += A_d*l_pos <= b_d_pos\n",
    "    s_neg += A_d*l_neg >= b_d_neg\n",
    "\n",
    "    s_pos.objective = u_pos[0]\n",
    "    s_neg.objective = u_neg[0]\n",
    "\n",
    "    s_pos.primal()\n",
    "    s_neg.primal()\n",
    "\n",
    "    cond_pos = s_pos.primalVariableSolution['u']\n",
    "    yr_pos = np.dot(cond_pos, y_pos)\n",
    "\n",
    "    cond_neg = s_neg.primalVariableSolution['u']\n",
    "    yr_neg = np.dot(cond_neg, y_neg)\n",
    "    \n",
    "    xr = np.dot(cond_pos, xs)\n",
    "    zr = np.dot(cond_pos, zs)\n",
    "    return yr_pos + yr_neg, x*z, s_pos.getStatusString(), s_neg.getStatusString(),xr,zr, s_pos.primalVariableSolution['l'], s_neg.primalVariableSolution['l']"
   ]
  },
  {
   "cell_type": "code",
   "execution_count": 29,
   "metadata": {},
   "outputs": [
    {
     "data": {
      "text/plain": [
       "(0.11000000000000004,\n",
       " 0.12,\n",
       " 'optimal',\n",
       " 'optimal',\n",
       " 0.3,\n",
       " 0.4,\n",
       " array([ 0.        ,  0.        , -0.42470588]),\n",
       " array([0.        , 0.        , 0.31470588]))"
      ]
     },
     "execution_count": 29,
     "metadata": {},
     "output_type": "execute_result"
    }
   ],
   "source": [
    "r = f(xs,zs,ys_pos,ys_neg,0.3,0.4,np.array([0,0,0]),np.array([0,0,0]),0.5,0.5)\n",
    "r"
   ]
  },
  {
   "cell_type": "code",
   "execution_count": 27,
   "metadata": {},
   "outputs": [
    {
     "data": {
      "text/plain": [
       "(0.11000000000000004,\n",
       " 0.12,\n",
       " 'optimal',\n",
       " 'optimal',\n",
       " 0.3,\n",
       " 0.4,\n",
       " array([ 0.        ,  0.        , -0.42470588]),\n",
       " array([0.        , 0.        , 0.31470588]))"
      ]
     },
     "execution_count": 27,
     "metadata": {},
     "output_type": "execute_result"
    }
   ],
   "source": [
    "r = f(xs,zs,ys_pos,ys_neg,0.3,0.4,np.array([0. ,  0. , -0.42470588]),np.array([0., 0., 0.31470588]),0.3,0.4)\n",
    "r"
   ]
  },
  {
   "cell_type": "code",
   "execution_count": 12,
   "metadata": {},
   "outputs": [
    {
     "data": {
      "text/plain": [
       "(0.32333333333333314,\n",
       " 0.25,\n",
       " 'optimal',\n",
       " 'optimal',\n",
       " array([ 0.        ,  0.        , -0.82333333]),\n",
       " array([0. , 0. , 0.5]))"
      ]
     },
     "execution_count": 12,
     "metadata": {},
     "output_type": "execute_result"
    }
   ],
   "source": [
    "r = f(xs,zs,ys_pos,ys_neg,0.5,0.5,np.array([ 1.5,  1.4, -0.7]),np.array([-0.9, -0.9,  0.4]),0.5,0.5)\n",
    "r"
   ]
  },
  {
   "cell_type": "code",
   "execution_count": 6,
   "metadata": {},
   "outputs": [
    {
     "data": {
      "text/plain": [
       "(0.22904761904761883,\n",
       " 0.25,\n",
       " 'optimal',\n",
       " 'optimal',\n",
       " array([-0.75757576,  0.        , -0.06575758]),\n",
       " array([0.54935065, 0.        , 0.04493506]))"
      ]
     },
     "execution_count": 6,
     "metadata": {},
     "output_type": "execute_result"
    }
   ],
   "source": [
    "r = f(xs,zs,ys_pos,ys_neg,0.5,0.5,r[-2],r[-1],0.5,0.5)\n",
    "r"
   ]
  },
  {
   "cell_type": "markdown",
   "metadata": {},
   "source": [
    "---"
   ]
  },
  {
   "cell_type": "code",
   "execution_count": 7,
   "metadata": {},
   "outputs": [
    {
     "data": {
      "text/plain": [
       "(0.020000000000000018,\n",
       " 0.010000000000000002,\n",
       " 'optimal',\n",
       " 'optimal',\n",
       " array([-0.07333333,  0.        ,  0.        ]),\n",
       " array([0.05333333, 0.        , 0.        ]))"
      ]
     },
     "execution_count": 7,
     "metadata": {},
     "output_type": "execute_result"
    }
   ],
   "source": [
    "r = f(xs,zs,ys_pos,ys_neg,0.1,0.1,np.array([1,1,1]),np.array([1,1,1]),1,1)\n",
    "r"
   ]
  },
  {
   "cell_type": "code",
   "execution_count": 8,
   "metadata": {},
   "outputs": [
    {
     "data": {
      "text/plain": [
       "(0.020000000000000018,\n",
       " 0.010000000000000002,\n",
       " 'optimal',\n",
       " 'optimal',\n",
       " array([-0.07333333,  0.        ,  0.        ]),\n",
       " array([0.05333333, 0.        , 0.        ]))"
      ]
     },
     "execution_count": 8,
     "metadata": {},
     "output_type": "execute_result"
    }
   ],
   "source": [
    "r = f(xs,zs,ys_pos,ys_neg,0.1,0.1,np.array([1,1,1]),np.array([1,1,1]),1,1)\n",
    "r"
   ]
  },
  {
   "cell_type": "markdown",
   "metadata": {},
   "source": [
    "---"
   ]
  },
  {
   "cell_type": "code",
   "execution_count": 9,
   "metadata": {},
   "outputs": [
    {
     "name": "stdout",
     "output_type": "stream",
     "text": [
      "0.1 0.1 :fx= +0.0200, +0.0100, Δfx: 0.0100; l ∈ [-0.07,0.05]\n",
      "0.1 0.2 :fx= +0.0200, +0.0200, Δfx: 0.0000; l ∈ [-0.10,0.07]\n",
      "0.1 0.3 :fx= +0.0067, +0.0300, Δfx: 0.0233; l ∈ [-0.15,0.14]\n",
      "0.1 0.4 :fx= +0.0067, +0.0400, Δfx: 0.0333; l ∈ [-14.47,14.70]\n",
      "0.1 0.5 :fx= +0.0167, +0.0500, Δfx: 0.0333; l ∈ [-15.37,15.69]\n",
      "0.1 0.6 :fx= +0.0467, +0.0600, Δfx: 0.0133; l ∈ [-16.27,16.68]\n",
      "0.1 0.7 :fx= +0.0900, +0.0700, Δfx: 0.0200; l ∈ [-17.30,17.82]\n",
      "0.1 0.8 :fx= +0.1067, +0.0800, Δfx: 0.0267; l ∈ [-18.73,19.40]\n",
      "0.1 0.9 :fx= +0.1233, +0.0900, Δfx: 0.0333; l ∈ [-20.30,21.12]\n",
      "0.2 0.1 :fx= +0.0200, +0.0200, Δfx: 0.0000; l ∈ [-0.10,0.07]\n",
      "0.2 0.2 :fx= +0.0400, +0.0400, Δfx: 0.0000; l ∈ [-0.12,0.08]\n",
      "0.2 0.3 :fx= +0.0569, +0.0600, Δfx: 0.0031; l ∈ [-0.23,0.18]\n",
      "0.2 0.4 :fx= +0.0739, +0.0800, Δfx: 0.0061; l ∈ [-0.35,0.28]\n",
      "0.2 0.5 :fx= +0.0908, +0.1000, Δfx: 0.0092; l ∈ [-0.46,0.38]\n",
      "0.2 0.6 :fx= +0.1051, +0.1200, Δfx: 0.0149; l ∈ [-0.57,0.47]\n",
      "0.2 0.7 :fx= +0.1175, +0.1400, Δfx: 0.0225; l ∈ [-0.68,0.57]\n",
      "0.2 0.8 :fx= +0.1725, +0.1600, Δfx: 0.0125; l ∈ [-0.82,0.66]\n",
      "0.3 0.1 :fx= +0.0067, +0.0300, Δfx: 0.0233; l ∈ [-0.15,0.14]\n",
      "0.3 0.2 :fx= +0.0569, +0.0600, Δfx: 0.0031; l ∈ [-0.23,0.18]\n",
      "0.3 0.3 :fx= +0.0960, +0.0900, Δfx: 0.0060; l ∈ [-0.30,0.21]\n",
      "0.3 0.4 :fx= +0.1061, +0.1200, Δfx: 0.0139; l ∈ [-0.40,0.30]\n",
      "0.3 0.5 :fx= +0.1293, +0.1500, Δfx: 0.0207; l ∈ [-0.51,0.39]\n",
      "0.3 0.6 :fx= +0.1612, +0.1800, Δfx: 0.0188; l ∈ [-0.63,0.49]\n",
      "0.3 0.7 :fx= +0.1500, +0.2100, Δfx: 0.0600; l ∈ [-0.76,0.63]\n",
      "0.4 0.1 :fx= +0.0067, +0.0400, Δfx: 0.0333; l ∈ [-14.47,14.70]\n",
      "0.4 0.2 :fx= +0.0739, +0.0800, Δfx: 0.0061; l ∈ [-0.35,0.28]\n",
      "0.4 0.3 :fx= +0.1061, +0.1200, Δfx: 0.0139; l ∈ [-0.40,0.30]\n",
      "0.4 0.4 :fx= +0.1551, +0.1600, Δfx: 0.0049; l ∈ [-0.49,0.35]\n",
      "0.4 0.5 :fx= +0.2008, +0.2000, Δfx: 0.0008; l ∈ [-0.61,0.43]\n",
      "0.4 0.6 :fx= +0.2239, +0.2400, Δfx: 0.0161; l ∈ [-0.75,0.54]\n",
      "0.5 0.1 :fx= +0.0167, +0.0500, Δfx: 0.0333; l ∈ [-15.37,15.69]\n",
      "0.5 0.2 :fx= +0.0908, +0.1000, Δfx: 0.0092; l ∈ [-0.46,0.38]\n",
      "0.5 0.3 :fx= +0.1293, +0.1500, Δfx: 0.0207; l ∈ [-0.51,0.39]\n",
      "0.5 0.4 :fx= +0.2008, +0.2000, Δfx: 0.0008; l ∈ [-0.61,0.43]\n",
      "0.5 0.5 :fx= +0.2290, +0.2500, Δfx: 0.0210; l ∈ [-0.76,0.55]\n",
      "0.6 0.1 :fx= +0.0467, +0.0600, Δfx: 0.0133; l ∈ [-16.27,16.68]\n",
      "0.6 0.2 :fx= +0.1051, +0.1200, Δfx: 0.0149; l ∈ [-0.57,0.47]\n",
      "0.6 0.3 :fx= +0.1612, +0.1800, Δfx: 0.0188; l ∈ [-0.63,0.49]\n",
      "0.6 0.4 :fx= +0.2239, +0.2400, Δfx: 0.0161; l ∈ [-0.75,0.54]\n",
      "0.7 0.1 :fx= +0.0900, +0.0700, Δfx: 0.0200; l ∈ [-17.30,17.82]\n",
      "0.7 0.2 :fx= +0.1175, +0.1400, Δfx: 0.0225; l ∈ [-0.68,0.57]\n",
      "0.7 0.3 :fx= +0.1500, +0.2100, Δfx: 0.0600; l ∈ [-0.76,0.63]\n",
      "0.8 0.1 :fx= +0.1067, +0.0800, Δfx: 0.0267; l ∈ [-18.73,19.40]\n",
      "0.8 0.2 :fx= +0.1725, +0.1600, Δfx: 0.0125; l ∈ [-0.82,0.66]\n",
      "0.9 0.1 :fx= +0.1233, +0.0900, Δfx: 0.0333; l ∈ [-20.30,21.12]\n"
     ]
    }
   ],
   "source": [
    "for x in np.arange(0.1,1,0.1):\n",
    "    for y in np.arange(0.1,1,0.1):\n",
    "        if x+y <= 1:\n",
    "            r = f(xs,zs,ys_pos,ys_neg,x,y,np.array([1,1,1]),np.array([1,1,1]),1,1)\n",
    "            arr = [*r[-2],*r[-1]]\n",
    "            print(\"{:2.1f} {:2.1f} :fx= {:+.4f}, {:+.4f}, \\u0394fx: {:.4f}; l \\u2208 [{:.2f},{:.2f}]\".\n",
    "                  format(x,y,r[0],x*y,abs(r[0]-x*y),min(arr),max(arr)))"
   ]
  },
  {
   "cell_type": "code",
   "execution_count": 10,
   "metadata": {},
   "outputs": [
    {
     "name": "stdout",
     "output_type": "stream",
     "text": [
      "0.1 0.1 :fx= +0.0200, +0.0100, Δfx: 0.0100; l ∈ [-0.07,0.05]\n",
      "0.1 0.2 :fx= +0.0200, +0.0200, Δfx: 0.0000; l ∈ [-0.10,0.07]\n",
      "0.1 0.3 :fx= +0.0067, +0.0300, Δfx: 0.0233; l ∈ [-0.15,0.14]\n",
      "0.1 0.4 :fx= +0.0067, +0.0400, Δfx: 0.0333; l ∈ [-14.47,14.70]\n",
      "0.1 0.5 :fx= +0.0167, +0.0500, Δfx: 0.0333; l ∈ [-15.37,15.69]\n",
      "0.1 0.6 :fx= +0.0467, +0.0600, Δfx: 0.0133; l ∈ [-16.27,16.68]\n",
      "0.1 0.7 :fx= +0.0900, +0.0700, Δfx: 0.0200; l ∈ [-17.30,17.82]\n",
      "0.1 0.8 :fx= +0.1067, +0.0800, Δfx: 0.0267; l ∈ [-18.73,19.40]\n",
      "0.1 0.9 :fx= +0.1233, +0.0900, Δfx: 0.0333; l ∈ [-20.30,21.12]\n",
      "0.2 0.1 :fx= +0.0200, +0.0200, Δfx: 0.0000; l ∈ [-0.10,0.07]\n",
      "0.2 0.2 :fx= +0.0400, +0.0400, Δfx: 0.0000; l ∈ [-0.12,0.08]\n",
      "0.2 0.3 :fx= +0.0569, +0.0600, Δfx: 0.0031; l ∈ [-0.23,0.18]\n",
      "0.2 0.4 :fx= +0.0739, +0.0800, Δfx: 0.0061; l ∈ [-0.35,0.28]\n",
      "0.2 0.5 :fx= +0.0908, +0.1000, Δfx: 0.0092; l ∈ [-0.46,0.38]\n",
      "0.2 0.6 :fx= +0.1051, +0.1200, Δfx: 0.0149; l ∈ [-0.57,0.47]\n",
      "0.2 0.7 :fx= +0.1175, +0.1400, Δfx: 0.0225; l ∈ [-0.68,0.57]\n",
      "0.2 0.8 :fx= +0.1725, +0.1600, Δfx: 0.0125; l ∈ [-0.82,0.66]\n",
      "0.3 0.1 :fx= +0.0067, +0.0300, Δfx: 0.0233; l ∈ [-0.15,0.14]\n",
      "0.3 0.2 :fx= +0.0569, +0.0600, Δfx: 0.0031; l ∈ [-0.23,0.18]\n",
      "0.3 0.3 :fx= +0.0960, +0.0900, Δfx: 0.0060; l ∈ [-0.30,0.21]\n",
      "0.3 0.4 :fx= +0.1061, +0.1200, Δfx: 0.0139; l ∈ [-0.40,0.30]\n",
      "0.3 0.5 :fx= +0.1293, +0.1500, Δfx: 0.0207; l ∈ [-0.51,0.39]\n",
      "0.3 0.6 :fx= +0.1612, +0.1800, Δfx: 0.0188; l ∈ [-0.63,0.49]\n",
      "0.3 0.7 :fx= +0.1500, +0.2100, Δfx: 0.0600; l ∈ [-0.76,0.63]\n",
      "0.4 0.1 :fx= +0.0067, +0.0400, Δfx: 0.0333; l ∈ [-14.47,14.70]\n",
      "0.4 0.2 :fx= +0.0739, +0.0800, Δfx: 0.0061; l ∈ [-0.35,0.28]\n",
      "0.4 0.3 :fx= +0.1061, +0.1200, Δfx: 0.0139; l ∈ [-0.40,0.30]\n",
      "0.4 0.4 :fx= +0.1551, +0.1600, Δfx: 0.0049; l ∈ [-0.49,0.35]\n",
      "0.4 0.5 :fx= +0.2008, +0.2000, Δfx: 0.0008; l ∈ [-0.61,0.43]\n",
      "0.4 0.6 :fx= +0.2239, +0.2400, Δfx: 0.0161; l ∈ [-0.75,0.54]\n",
      "0.5 0.1 :fx= +0.0167, +0.0500, Δfx: 0.0333; l ∈ [-15.37,15.69]\n",
      "0.5 0.2 :fx= +0.0908, +0.1000, Δfx: 0.0092; l ∈ [-0.46,0.38]\n",
      "0.5 0.3 :fx= +0.1293, +0.1500, Δfx: 0.0207; l ∈ [-0.51,0.39]\n",
      "0.5 0.4 :fx= +0.2008, +0.2000, Δfx: 0.0008; l ∈ [-0.61,0.43]\n",
      "0.5 0.5 :fx= +0.2290, +0.2500, Δfx: 0.0210; l ∈ [-0.76,0.55]\n",
      "0.6 0.1 :fx= +0.0467, +0.0600, Δfx: 0.0133; l ∈ [-16.27,16.68]\n",
      "0.6 0.2 :fx= +0.1051, +0.1200, Δfx: 0.0149; l ∈ [-0.57,0.47]\n",
      "0.6 0.3 :fx= +0.1612, +0.1800, Δfx: 0.0188; l ∈ [-0.63,0.49]\n",
      "0.6 0.4 :fx= +0.2239, +0.2400, Δfx: 0.0161; l ∈ [-0.75,0.54]\n",
      "0.7 0.1 :fx= +0.0900, +0.0700, Δfx: 0.0200; l ∈ [-17.30,17.82]\n",
      "0.7 0.2 :fx= +0.1175, +0.1400, Δfx: 0.0225; l ∈ [-0.68,0.57]\n",
      "0.7 0.3 :fx= +0.1500, +0.2100, Δfx: 0.0600; l ∈ [-0.76,0.63]\n",
      "0.8 0.1 :fx= +0.1067, +0.0800, Δfx: 0.0267; l ∈ [-18.73,19.40]\n",
      "0.8 0.2 :fx= +0.1725, +0.1600, Δfx: 0.0125; l ∈ [-0.82,0.66]\n",
      "0.9 0.1 :fx= +0.1233, +0.0900, Δfx: 0.0333; l ∈ [-20.30,21.12]\n"
     ]
    }
   ],
   "source": [
    "for x in np.arange(0.1,1,0.1):\n",
    "    for y in np.arange(0.1,1,0.1):\n",
    "        if x+y <= 1:\n",
    "            r = f(xs,zs,ys_pos,ys_neg,x,y,np.array([0,0,0]),np.array([0,0,0]),x,y)\n",
    "            arr = [*r[-2],*r[-1]]\n",
    "            print(\"{:2.1f} {:2.1f} :fx= {:+.4f}, {:+.4f}, \\u0394fx: {:.4f}; l \\u2208 [{:.2f},{:.2f}]\".\n",
    "                  format(x,y,r[0],x*y,abs(r[0]-x*y),min(arr),max(arr)))"
   ]
  }
 ],
 "metadata": {
  "kernelspec": {
   "display_name": "Python 3",
   "language": "python",
   "name": "python3"
  },
  "language_info": {
   "codemirror_mode": {
    "name": "ipython",
    "version": 3
   },
   "file_extension": ".py",
   "mimetype": "text/x-python",
   "name": "python",
   "nbconvert_exporter": "python",
   "pygments_lexer": "ipython3",
   "version": "3.7.3"
  }
 },
 "nbformat": 4,
 "nbformat_minor": 4
}
