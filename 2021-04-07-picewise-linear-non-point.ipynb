{
 "cells": [
  {
   "cell_type": "markdown",
   "metadata": {},
   "source": [
    "# Вычисление значения кусочно линейной функции одной переменной \n",
    "\n",
    "Мы можем получить кусочно-линейную аппрксимацию выпуклых функций, между точками дискретизации. Что если попробовать использовать их как ограничения."
   ]
  },
  {
   "cell_type": "code",
   "execution_count": 1,
   "metadata": {},
   "outputs": [
    {
     "name": "stdout",
     "output_type": "stream",
     "text": [
      "Populating the interactive namespace from numpy and matplotlib\n"
     ]
    }
   ],
   "source": [
    "from cylp.cy import CyClpSimplex\n",
    "from cylp.py.modeling.CyLPModel import CyLPArray\n",
    "\n",
    "import numpy as np\n",
    "%pylab inline"
   ]
  },
  {
   "cell_type": "code",
   "execution_count": 2,
   "metadata": {},
   "outputs": [
    {
     "data": {
      "text/plain": [
       "[<matplotlib.lines.Line2D at 0x7feda06ae320>]"
      ]
     },
     "execution_count": 2,
     "metadata": {},
     "output_type": "execute_result"
    },
    {
     "data": {
      "image/png": "[encoded data removed]",
      "text/plain": [
       "<Figure size 432x288 with 1 Axes>"
      ]
     },
     "metadata": {
      "needs_background": "light"
     },
     "output_type": "display_data"
    }
   ],
   "source": [
    "n = 15\n",
    "a0, b0 = -4, 4\n",
    "x = np.linspace(a0,b0,n)\n",
    "y = np.piecewise(x, [x <= 0, x > 0], \n",
    "                [0, lambda x: x**2])\n",
    "plt.plot(x,y)"
   ]
  },
  {
   "cell_type": "code",
   "execution_count": null,
   "metadata": {},
   "outputs": [],
   "source": []
  },
  {
   "cell_type": "code",
   "execution_count": 3,
   "metadata": {},
   "outputs": [
    {
     "data": {
      "text/plain": [
       "array([-4.        , -3.42857143, -2.85714286, -2.28571429, -1.71428571,\n",
       "       -1.14285714, -0.57142857,  0.        ,  0.57142857,  1.14285714,\n",
       "        1.71428571,  2.28571429,  2.85714286,  3.42857143,  4.        ])"
      ]
     },
     "execution_count": 3,
     "metadata": {},
     "output_type": "execute_result"
    }
   ],
   "source": [
    "x"
   ]
  },
  {
   "cell_type": "markdown",
   "metadata": {},
   "source": [
    "Поиск координаты $y$ при заданных $x$ можно свести к решению следующей задачи ЛП:\n",
    "\n",
    "$$\n",
    "\\min y ,\n",
    "$$\n",
    "\n",
    "при условиях:\n",
    "\n",
    "$$\n",
    "a_i x + b_i y + c_i \\ge 0,\\\\\n",
    "x = x_0\n",
    "$$\n",
    "\n",
    "Где $a_i$ и $b_i$ --- коэффициенты линейных ограничений функции\n"
   ]
  },
  {
   "cell_type": "markdown",
   "metadata": {},
   "source": [
    "Сначала сформируем все ограничения:"
   ]
  },
  {
   "cell_type": "code",
   "execution_count": 4,
   "metadata": {},
   "outputs": [
    {
     "data": {
      "text/plain": [
       "array([ 0.        ,  0.        ,  0.        ,  0.        ,  0.        ,\n",
       "        0.        ,  0.        ,  0.        ,  0.32653061,  1.30612245,\n",
       "        2.93877551,  5.2244898 ,  8.16326531, 11.75510204, 16.        ])"
      ]
     },
     "execution_count": 4,
     "metadata": {},
     "output_type": "execute_result"
    }
   ],
   "source": [
    "\n",
    "y"
   ]
  },
  {
   "cell_type": "code",
   "execution_count": 5,
   "metadata": {},
   "outputs": [],
   "source": [
    "x_1 = x[:-1:]\n",
    "x_2 = x[1::]\n",
    "y_1 = y[:-1:]\n",
    "y_2 = y[1::]"
   ]
  },
  {
   "cell_type": "markdown",
   "metadata": {},
   "source": [
    "## Прямая задача"
   ]
  },
  {
   "cell_type": "code",
   "execution_count": 6,
   "metadata": {},
   "outputs": [
    {
     "data": {
      "text/plain": [
       "array([ 0.        ,  0.        ,  0.        ,  0.        ,  0.        ,\n",
       "        0.        ,  0.        , -0.32653061, -0.97959184, -1.63265306,\n",
       "       -2.28571429, -2.93877551, -3.59183673, -4.24489796])"
      ]
     },
     "execution_count": 6,
     "metadata": {},
     "output_type": "execute_result"
    }
   ],
   "source": [
    "\n",
    "a = (y_1-y_2)\n",
    "a"
   ]
  },
  {
   "cell_type": "code",
   "execution_count": 7,
   "metadata": {},
   "outputs": [
    {
     "data": {
      "text/plain": [
       "matrix([[0.57142857, 0.        ],\n",
       "        [0.57142857, 0.        ],\n",
       "        [0.57142857, 0.        ],\n",
       "        [0.57142857, 0.        ],\n",
       "        [0.57142857, 0.        ],\n",
       "        [0.57142857, 0.        ],\n",
       "        [0.57142857, 0.        ],\n",
       "        [0.57142857, 0.        ],\n",
       "        [0.57142857, 0.        ],\n",
       "        [0.57142857, 0.        ],\n",
       "        [0.57142857, 0.        ],\n",
       "        [0.57142857, 0.        ],\n",
       "        [0.57142857, 0.        ],\n",
       "        [0.57142857, 0.        ]])"
      ]
     },
     "execution_count": 7,
     "metadata": {},
     "output_type": "execute_result"
    }
   ],
   "source": [
    "b = (x_2-x_1).reshape(-1,1)\n",
    "b = np.hstack([b,np.zeros_like(b)])\n",
    "b = np.matrix(b)\n",
    "b"
   ]
  },
  {
   "cell_type": "code",
   "execution_count": 8,
   "metadata": {},
   "outputs": [
    {
     "data": {
      "text/plain": [
       "array([ 0.        ,  0.        ,  0.        ,  0.        ,  0.        ,\n",
       "        0.        , -0.        ,  0.        ,  0.37317784,  1.11953353,\n",
       "        2.23906706,  3.73177843,  5.59766764,  7.83673469])"
      ]
     },
     "execution_count": 8,
     "metadata": {},
     "output_type": "execute_result"
    }
   ],
   "source": [
    "c = x_1*y_2 - x_2*y_1\n",
    "\n",
    "c"
   ]
  },
  {
   "cell_type": "code",
   "execution_count": 9,
   "metadata": {},
   "outputs": [
    {
     "data": {
      "text/plain": [
       "array([ 0.        ,  0.        ,  0.        ,  0.        ,  0.        ,\n",
       "        0.        ,  0.        , -0.97959184, -2.56559767, -3.77842566,\n",
       "       -4.6180758 , -5.0845481 , -5.17784257, -4.89795918])"
      ]
     },
     "execution_count": 9,
     "metadata": {},
     "output_type": "execute_result"
    }
   ],
   "source": [
    "x_0 = 3\n",
    "xv = x_0\n",
    "a*xv + c"
   ]
  },
  {
   "cell_type": "code",
   "execution_count": 10,
   "metadata": {},
   "outputs": [
    {
     "data": {
      "text/plain": [
       "'optimal'"
      ]
     },
     "execution_count": 10,
     "metadata": {},
     "output_type": "execute_result"
    }
   ],
   "source": [
    "s = CyClpSimplex()\n",
    "yv = s.addVariable('y',2)\n",
    "\n",
    "s += b*yv >= -a*xv - c\n",
    "\n",
    "s.optimizationDirection = 'min'\n",
    "s.objective = yv[0]\n",
    "s.primal()"
   ]
  },
  {
   "cell_type": "code",
   "execution_count": 11,
   "metadata": {},
   "outputs": [
    {
     "data": {
      "text/plain": [
       "(9.061224489795919, 9)"
      ]
     },
     "execution_count": 11,
     "metadata": {},
     "output_type": "execute_result"
    }
   ],
   "source": [
    "s.objectiveValue,xv**2"
   ]
  },
  {
   "cell_type": "markdown",
   "metadata": {},
   "source": [
    "### Проверка точности\n",
    "Проверим на многих значениях"
   ]
  },
  {
   "cell_type": "code",
   "execution_count": 12,
   "metadata": {},
   "outputs": [
    {
     "data": {
      "text/plain": [
       "-9.999999999999998e-13"
      ]
     },
     "execution_count": 12,
     "metadata": {},
     "output_type": "execute_result"
    }
   ],
   "source": [
    "def plpp(a,b,c,x):\n",
    "    s = CyClpSimplex()\n",
    "    y = s.addVariable('y',2)\n",
    "\n",
    "    s += b*y >= -a*x - c\n",
    "        \n",
    "    s.optimizationDirection = 'min'\n",
    "    s.objectiveCoefficients = np.array([1,0])\n",
    "    s.primal()\n",
    "    \n",
    "    return s.objectiveValue\n",
    "plpp(a,b,c,-1)"
   ]
  },
  {
   "cell_type": "code",
   "execution_count": 13,
   "metadata": {},
   "outputs": [
    {
     "data": {
      "text/plain": [
       "[<matplotlib.lines.Line2D at 0x7feda0597400>]"
      ]
     },
     "execution_count": 13,
     "metadata": {},
     "output_type": "execute_result"
    },
    {
     "data": {
      "image/png": "[encoded data removed]",
      "text/plain": [
       "<Figure size 432x288 with 1 Axes>"
      ]
     },
     "metadata": {
      "needs_background": "light"
     },
     "output_type": "display_data"
    }
   ],
   "source": [
    "a0,b0 = -4,4\n",
    "n_res = n*10\n",
    "x_res = np.linspace(a0,b0,n_res)\n",
    "y_res = np.empty(n_res)\n",
    "\n",
    "for i in range(n_res):\n",
    "    y_res[i] = plpp(a,b,c, x_res[i])\n",
    "\n",
    "plt.plot(x_res, y_res)"
   ]
  },
  {
   "cell_type": "code",
   "execution_count": 14,
   "metadata": {},
   "outputs": [
    {
     "data": {
      "text/plain": [
       "[<matplotlib.lines.Line2D at 0x7feda4b00198>]"
      ]
     },
     "execution_count": 14,
     "metadata": {},
     "output_type": "execute_result"
    },
    {
     "data": {
      "image/png": "[encoded data removed]",
      "text/plain": [
       "<Figure size 432x288 with 1 Axes>"
      ]
     },
     "metadata": {
      "needs_background": "light"
     },
     "output_type": "display_data"
    }
   ],
   "source": [
    "y_test = np.piecewise(x_res, [x_res <= 0, x_res > 0], \n",
    "                [0, lambda x: x**2])\n",
    "plt.plot(x,np.zeros_like(x),'+')\n",
    "plt.plot(x_res, abs(y_test - y_res))"
   ]
  },
  {
   "cell_type": "markdown",
   "metadata": {},
   "source": [
    "## Двойственная задача"
   ]
  },
  {
   "cell_type": "code",
   "execution_count": 6,
   "metadata": {},
   "outputs": [
    {
     "data": {
      "text/plain": [
       "array([ 0.        ,  0.        ,  0.        ,  0.        ,  0.        ,\n",
       "        0.        ,  0.        , -0.32653061, -0.97959184, -1.63265306,\n",
       "       -2.28571429, -2.93877551, -3.59183673, -4.24489796])"
      ]
     },
     "execution_count": 6,
     "metadata": {},
     "output_type": "execute_result"
    }
   ],
   "source": [
    "a = (y_1-y_2)\n",
    "a"
   ]
  },
  {
   "cell_type": "code",
   "execution_count": 27,
   "metadata": {},
   "outputs": [
    {
     "data": {
      "text/plain": [
       "matrix([[0.57142857, 0.57142857, 0.57142857, 0.57142857, 0.57142857,\n",
       "         0.57142857, 0.57142857, 0.57142857, 0.57142857, 0.57142857,\n",
       "         0.57142857, 0.57142857, 0.57142857, 0.57142857]])"
      ]
     },
     "execution_count": 27,
     "metadata": {},
     "output_type": "execute_result"
    }
   ],
   "source": [
    "b = (x_2-x_1)\n",
    "b = np.matrix(b)\n",
    "b"
   ]
  },
  {
   "cell_type": "code",
   "execution_count": 8,
   "metadata": {},
   "outputs": [
    {
     "data": {
      "text/plain": [
       "array([ 0.        ,  0.        ,  0.        ,  0.        ,  0.        ,\n",
       "        0.        , -0.        ,  0.        ,  0.37317784,  1.11953353,\n",
       "        2.23906706,  3.73177843,  5.59766764,  7.83673469])"
      ]
     },
     "execution_count": 8,
     "metadata": {},
     "output_type": "execute_result"
    }
   ],
   "source": [
    "c = x_1*y_2 - x_2*y_1\n",
    "c"
   ]
  },
  {
   "cell_type": "code",
   "execution_count": 22,
   "metadata": {},
   "outputs": [
    {
     "data": {
      "text/plain": [
       "4.0816326530612255"
      ]
     },
     "execution_count": 22,
     "metadata": {},
     "output_type": "execute_result"
    }
   ],
   "source": [
    "def plpd(a,b,c,x):\n",
    "    s = CyClpSimplex()\n",
    "    u = s.addVariable('u',n-1)\n",
    "\n",
    "    s += b*u <= 1\n",
    "    \n",
    "    for i in range(n-1):\n",
    "        s += u[i] >= 0\n",
    "\n",
    "    \n",
    "    s.optimizationDirection = 'max'\n",
    "    s.objectiveCoefficients = -a*x - c\n",
    "    s.primal()\n",
    "    \n",
    "    return s.objectiveValue\n",
    "plpd(a,b,c,2)"
   ]
  },
  {
   "cell_type": "code",
   "execution_count": 23,
   "metadata": {},
   "outputs": [
    {
     "data": {
      "text/plain": [
       "[<matplotlib.lines.Line2D at 0x7feda03326d8>]"
      ]
     },
     "execution_count": 23,
     "metadata": {},
     "output_type": "execute_result"
    },
    {
     "data": {
      "image/png": "[encoded data removed]",
      "text/plain": [
       "<Figure size 432x288 with 1 Axes>"
      ]
     },
     "metadata": {
      "needs_background": "light"
     },
     "output_type": "display_data"
    }
   ],
   "source": [
    "a0,b0 = -4,4\n",
    "n_res = n*10\n",
    "x_res = np.linspace(a0,b0,n_res)\n",
    "y_res = np.empty(n_res)\n",
    "\n",
    "for i in range(n_res):\n",
    "    y_res[i] = plpd(a,b,c, x_res[i])\n",
    "\n",
    "plt.plot(x_res, y_res)"
   ]
  },
  {
   "cell_type": "code",
   "execution_count": 24,
   "metadata": {},
   "outputs": [
    {
     "data": {
      "text/plain": [
       "[<matplotlib.lines.Line2D at 0x7feda0332748>]"
      ]
     },
     "execution_count": 24,
     "metadata": {},
     "output_type": "execute_result"
    },
    {
     "data": {
      "image/png": "[encoded data removed]",
      "text/plain": [
       "<Figure size 432x288 with 1 Axes>"
      ]
     },
     "metadata": {
      "needs_background": "light"
     },
     "output_type": "display_data"
    }
   ],
   "source": [
    "y_test = np.piecewise(x_res, [x_res <= 0, x_res > 0], \n",
    "                [0, lambda x: x**2])\n",
    "plt.plot(x,np.zeros_like(x),'+')\n",
    "plt.plot(x_res, abs(y_test - y_res))"
   ]
  },
  {
   "cell_type": "markdown",
   "metadata": {},
   "source": [
    "## Прямая и двойственная задачи"
   ]
  },
  {
   "cell_type": "code",
   "execution_count": 55,
   "metadata": {},
   "outputs": [
    {
     "data": {
      "text/plain": [
       "1.0612244897959182"
      ]
     },
     "execution_count": 55,
     "metadata": {},
     "output_type": "execute_result"
    }
   ],
   "source": [
    "def plppd(a,b,c,x):\n",
    "    s = CyClpSimplex()\n",
    "    y = s.addVariable('y',2)\n",
    "    u = s.addVariable('u',n-1)\n",
    "    \n",
    "    bp = b.reshape(-1,1)\n",
    "    bp = np.hstack([bp,np.zeros_like(bp)])\n",
    "    bp = np.matrix(bp)\n",
    "    z = np.matrix(-c-a*x)\n",
    "    \n",
    "    s += y - z*u == 0\n",
    "    s += bp*y >= -a*x - c\n",
    "    s += b*u <= 1\n",
    "    \n",
    "    for i in range(n-1):\n",
    "        s += u[i] >= 0\n",
    "\n",
    "    \n",
    "    s.optimizationDirection = 'max'\n",
    "    s.objectiveCoefficients = y[0]\n",
    "    s.primal()\n",
    "    \n",
    "    return s.objectiveValue\n",
    "plppd(a,b,c,1)"
   ]
  },
  {
   "cell_type": "code",
   "execution_count": 36,
   "metadata": {},
   "outputs": [
    {
     "data": {
      "text/plain": [
       "[<matplotlib.lines.Line2D at 0x7feda05ebef0>]"
      ]
     },
     "execution_count": 36,
     "metadata": {},
     "output_type": "execute_result"
    },
    {
     "data": {
      "image/png": "[encoded data removed]",
      "text/plain": [
       "<Figure size 432x288 with 1 Axes>"
      ]
     },
     "metadata": {
      "needs_background": "light"
     },
     "output_type": "display_data"
    }
   ],
   "source": [
    "a0,b0 = -4,4\n",
    "n_res = n*10\n",
    "x_res = np.linspace(a0,b0,n_res)\n",
    "y_res = np.empty(n_res)\n",
    "\n",
    "for i in range(n_res):\n",
    "    y_res[i] = plppd(a,b,c, x_res[i])\n",
    "\n",
    "plt.plot(x_res, y_res)"
   ]
  },
  {
   "cell_type": "code",
   "execution_count": 37,
   "metadata": {},
   "outputs": [
    {
     "data": {
      "text/plain": [
       "[<matplotlib.lines.Line2D at 0x7feda01f6d30>]"
      ]
     },
     "execution_count": 37,
     "metadata": {},
     "output_type": "execute_result"
    },
    {
     "data": {
      "image/png": "[encoded data removed]",
      "text/plain": [
       "<Figure size 432x288 with 1 Axes>"
      ]
     },
     "metadata": {
      "needs_background": "light"
     },
     "output_type": "display_data"
    }
   ],
   "source": [
    "y_test = np.piecewise(x_res, [x_res <= 0, x_res > 0], \n",
    "                [0, lambda x: x**2])\n",
    "plt.plot(x,np.zeros_like(x),'+')\n",
    "plt.plot(x_res, abs(y_test - y_res))"
   ]
  },
  {
   "cell_type": "code",
   "execution_count": 66,
   "metadata": {},
   "outputs": [
    {
     "data": {
      "text/plain": [
       "0.0"
      ]
     },
     "execution_count": 66,
     "metadata": {},
     "output_type": "execute_result"
    }
   ],
   "source": [
    "def plppd(a,b,c,x1,x2):\n",
    "    s = CyClpSimplex()\n",
    "    y = s.addVariable('y',2)\n",
    "    u = s.addVariable('u',n-1)\n",
    "    \n",
    "    bp = b.reshape(-1,1)\n",
    "    bp = np.hstack([bp,np.zeros_like(bp)])\n",
    "    bp = np.matrix(bp)\n",
    "    z = np.matrix(-c-a*x1)\n",
    "    \n",
    "    s += y - z*u == 0\n",
    "    s += bp*y >= -a*x2 - c\n",
    "    s += b*u <= 1\n",
    "    \n",
    "    for i in range(n-1):\n",
    "        s += u[i] >= 0\n",
    "\n",
    "    \n",
    "    s.optimizationDirection = 'max'\n",
    "    s.objectiveCoefficients = y[0]\n",
    "    s.primal()\n",
    "    \n",
    "    return s.objectiveValue\n",
    "plppd(a,b,c,0,-1)"
   ]
  }
 ],
 "metadata": {
  "kernelspec": {
   "display_name": "Python 3",
   "language": "python",
   "name": "python3"
  },
  "language_info": {
   "codemirror_mode": {
    "name": "ipython",
    "version": 3
   },
   "file_extension": ".py",
   "mimetype": "text/x-python",
   "name": "python",
   "nbconvert_exporter": "python",
   "pygments_lexer": "ipython3",
   "version": "3.7.3"
  }
 },
 "nbformat": 4,
 "nbformat_minor": 4
}
