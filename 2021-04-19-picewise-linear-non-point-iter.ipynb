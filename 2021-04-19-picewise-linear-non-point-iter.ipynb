{
 "cells": [
  {
   "cell_type": "code",
   "execution_count": 1,
   "metadata": {},
   "outputs": [
    {
     "name": "stdout",
     "output_type": "stream",
     "text": [
      "Populating the interactive namespace from numpy and matplotlib\n"
     ]
    }
   ],
   "source": [
    "from cylp.cy import CyClpSimplex\n",
    "from cylp.py.modeling.CyLPModel import CyLPArray\n",
    "\n",
    "import numpy as np\n",
    "%pylab inline"
   ]
  },
  {
   "cell_type": "code",
   "execution_count": 3,
   "metadata": {},
   "outputs": [
    {
     "data": {
      "text/plain": [
       "[<matplotlib.lines.Line2D at 0x7fbd5fac6be0>]"
      ]
     },
     "execution_count": 3,
     "metadata": {},
     "output_type": "execute_result"
    },
    {
     "data": {
      "image/png": "[encoded data removed]",
      "text/plain": [
       "<Figure size 432x288 with 1 Axes>"
      ]
     },
     "metadata": {
      "needs_background": "light"
     },
     "output_type": "display_data"
    }
   ],
   "source": [
    "n = 15\n",
    "a0, b0 = -4, 4\n",
    "x = np.linspace(a0,b0,n)\n",
    "y = np.piecewise(x, [x <= 0, x > 0], \n",
    "                [0, lambda x: x**2])\n",
    "plt.plot(x,y)"
   ]
  },
  {
   "cell_type": "code",
   "execution_count": 5,
   "metadata": {},
   "outputs": [],
   "source": [
    "x_1 = x[:-1:]\n",
    "x_2 = x[1::]\n",
    "y_1 = y[:-1:]\n",
    "y_2 = y[1::]"
   ]
  },
  {
   "cell_type": "code",
   "execution_count": 32,
   "metadata": {},
   "outputs": [
    {
     "data": {
      "text/plain": [
       "matrix([[ 0.        ],\n",
       "        [ 0.        ],\n",
       "        [ 0.        ],\n",
       "        [ 0.        ],\n",
       "        [ 0.        ],\n",
       "        [ 0.        ],\n",
       "        [ 0.        ],\n",
       "        [-0.32653061],\n",
       "        [-0.97959184],\n",
       "        [-1.63265306],\n",
       "        [-2.28571429],\n",
       "        [-2.93877551],\n",
       "        [-3.59183673],\n",
       "        [-4.24489796]])"
      ]
     },
     "execution_count": 32,
     "metadata": {},
     "output_type": "execute_result"
    }
   ],
   "source": [
    "a = (y_1-y_2)\n",
    "a = np.matrix(a.reshape(-1,1))\n",
    "a"
   ]
  },
  {
   "cell_type": "code",
   "execution_count": 10,
   "metadata": {},
   "outputs": [
    {
     "data": {
      "text/plain": [
       "matrix([[0.57142857, 0.57142857, 0.57142857, 0.57142857, 0.57142857,\n",
       "         0.57142857, 0.57142857, 0.57142857, 0.57142857, 0.57142857,\n",
       "         0.57142857, 0.57142857, 0.57142857, 0.57142857]])"
      ]
     },
     "execution_count": 10,
     "metadata": {},
     "output_type": "execute_result"
    }
   ],
   "source": [
    "b = (x_2-x_1)\n",
    "b = np.matrix(b)\n",
    "b"
   ]
  },
  {
   "cell_type": "code",
   "execution_count": 27,
   "metadata": {},
   "outputs": [
    {
     "data": {
      "text/plain": [
       "matrix([[ 0.        ],\n",
       "        [ 0.        ],\n",
       "        [ 0.        ],\n",
       "        [ 0.        ],\n",
       "        [ 0.        ],\n",
       "        [ 0.        ],\n",
       "        [-0.        ],\n",
       "        [ 0.        ],\n",
       "        [ 0.37317784],\n",
       "        [ 1.11953353],\n",
       "        [ 2.23906706],\n",
       "        [ 3.73177843],\n",
       "        [ 5.59766764],\n",
       "        [ 7.83673469]])"
      ]
     },
     "execution_count": 27,
     "metadata": {},
     "output_type": "execute_result"
    }
   ],
   "source": [
    "c = x_1*y_2 - x_2*y_1\n",
    "c = np.matrix(c.reshape(-1,1))\n",
    "c"
   ]
  },
  {
   "cell_type": "code",
   "execution_count": 77,
   "metadata": {},
   "outputs": [
    {
     "name": "stdout",
     "output_type": "stream",
     "text": [
      "[[0.   0.   0.   0.   0.   0.   0.   1.75 0.   0.   0.   0.   0.   0.  ]]\n",
      "[\n",
      "constraint R_786:\n",
      "variable names:\n",
      "['u', 'y']\n",
      "coefficients:\n",
      "{u[2:16]: CyLPArray([ 0.        ,  0.        ,  0.        ,  0.        ,\n",
      "            0.        ,  0.        ,  0.        , -0.16326531,\n",
      "           -0.11661808,  0.303207  ,  1.09620991,  2.26239067,\n",
      "            3.80174927,  5.71428571]), y: <2x2 sparse matrix of type '<class 'numpy.float64'>'\n",
      "\twith 2 stored elements in Compressed Sparse Row format>}\n",
      "lower = [0. 0.]\n",
      "upper = [0. 0.]\n",
      "normal Constarint\n",
      "]\n"
     ]
    },
    {
     "data": {
      "text/plain": [
       "(0.2857142857142856,\n",
       " {'R_786': array([0., 0.]),\n",
       "  'R_787': array([0.16326531, 0.16326531, 0.16326531, 0.16326531, 0.16326531,\n",
       "         0.16326531, 0.16326531, 0.16326531, 0.16326531, 0.16326531,\n",
       "         0.16326531, 0.16326531, 0.16326531, 0.16326531]),\n",
       "  'R_788': array([1.])},\n",
       " {'y': array([0.28571429, 0.28571429]),\n",
       "  'u': array([0.  , 0.  , 0.  , 0.  , 0.  , 0.  , 0.  , 1.75, 0.  , 0.  , 0.  ,\n",
       "         0.  , 0.  , 0.  ])})"
      ]
     },
     "execution_count": 77,
     "metadata": {},
     "output_type": "execute_result"
    }
   ],
   "source": [
    "def plppd(a,b,c,x):\n",
    "    x0 = 0.5\n",
    "    u0 = np.matrix(np.zeros(n-1))\n",
    "    u0[0,7] = 1.75\n",
    "    print(u0)\n",
    "\n",
    "    s = CyClpSimplex()\n",
    "    y = s.addVariable('y',2)\n",
    "    u = s.addVariable('u',n-1)\n",
    "    \n",
    "    b = b.reshape(-1,1)\n",
    "    bp = np.hstack([b,np.zeros_like(b)])\n",
    "    bp = np.matrix(bp)\n",
    "    \n",
    "    s += y + (c + a*x0)*u + (a*x)*u0 - (a*x0)*u0 == 0\n",
    "    print (s.constraints)\n",
    "    #s += y + (c + a*x)*u == 0\n",
    "    s += bp*y >= -a*x - c\n",
    "    s += b*u <= 1\n",
    "    \n",
    "    for i in range(n-1):\n",
    "        s += u[i] >= 0\n",
    "\n",
    "    \n",
    "    s.optimizationDirection = 'max'\n",
    "    s.objectiveCoefficients = y[0]\n",
    "    s.primal()\n",
    "    \n",
    "    return s.objectiveValue, s.primalConstraintSolution, s.primalVariableSolution\n",
    "plppd(a,b,c,3)"
   ]
  }
 ],
 "metadata": {
  "kernelspec": {
   "display_name": "Python 3",
   "language": "python",
   "name": "python3"
  },
  "language_info": {
   "codemirror_mode": {
    "name": "ipython",
    "version": 3
   },
   "file_extension": ".py",
   "mimetype": "text/x-python",
   "name": "python",
   "nbconvert_exporter": "python",
   "pygments_lexer": "ipython3",
   "version": "3.7.3"
  }
 },
 "nbformat": 4,
 "nbformat_minor": 2
}
