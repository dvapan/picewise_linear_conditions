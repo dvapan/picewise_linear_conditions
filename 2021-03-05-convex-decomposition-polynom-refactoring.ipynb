{
 "cells": [
  {
   "cell_type": "markdown",
   "metadata": {},
   "source": [
    "# Проверка различных значений"
   ]
  },
  {
   "cell_type": "markdown",
   "metadata": {},
   "source": [
    "При создании выпукло-двойственной задачи мы дважды используем значения $x_0, z_0$. Один раз они являются ограничениями правой части, другой - коэффициентами.\n",
    "\n",
    "При этом нам бы хотелось иметь возможность менять ограничеия правой части и при этом оставлять неизменными коэффициенты. Тогда получится встраивать такие ограничения в симплекс метод."
   ]
  },
  {
   "cell_type": "code",
   "execution_count": 2,
   "metadata": {},
   "outputs": [
    {
     "name": "stdout",
     "output_type": "stream",
     "text": [
      "Populating the interactive namespace from numpy and matplotlib\n"
     ]
    }
   ],
   "source": [
    "from cylp.cy import CyClpSimplex\n",
    "from cylp.py.modeling.CyLPModel import CyLPArray\n",
    "\n",
    "import numpy as np\n",
    "%pylab inline"
   ]
  },
  {
   "cell_type": "code",
   "execution_count": 68,
   "metadata": {},
   "outputs": [],
   "source": [
    "xa,xb = 0,1\n",
    "za,zb = 0,1\n",
    "grid_step = 0.1\n",
    "xa_ext = xa - grid_step\n",
    "xb_ext = xb + grid_step\n",
    "za_ext = za - grid_step\n",
    "zb_ext = zb + grid_step\n",
    "\n",
    "\n",
    "x = np.arange(xa_ext, xb_ext, grid_step, dtype=np.double)\n",
    "z = np.arange(za_ext, zb_ext, grid_step, dtype=np.double)\n",
    "x,z = np.meshgrid(x, z)\n",
    "y_cvx = x**2 + x * z + z**2\n",
    "y_ccv = - x**2 - z**2\n",
    "\n",
    "x = x.flatten()\n",
    "z = z.flatten()\n",
    "y_cvx = y_cvx.flatten()\n",
    "y_ccv = y_ccv.flatten()\n",
    "\n",
    "mask = x+z <= 1+grid_step\n",
    "\n",
    "xs = x[mask]\n",
    "zs = z[mask]\n",
    "ys_pos = y_cvx[mask]\n",
    "ys_neg = y_ccv[mask]"
   ]
  },
  {
   "cell_type": "code",
   "execution_count": 80,
   "metadata": {},
   "outputs": [
    {
     "data": {
      "text/plain": [
       "(1.6653345369377348e-16, 'primal infeasible', 'primal infeasible')"
      ]
     },
     "execution_count": 80,
     "metadata": {},
     "output_type": "execute_result"
    }
   ],
   "source": [
    "x_0, z_0 = 0.5, 0.5\n",
    "x,z,y_pos,y_neg = xs,zs,ys_pos,ys_neg\n",
    "dim_p = len(x)\n",
    "rhs_p = np.array([x_0,z_0, 1], dtype=np.double)\n",
    "dim_d = len(rhs_p) \n",
    "\n",
    "s_pos = CyClpSimplex()\n",
    "u_pos = s_pos.addVariable('u', dim_p)\n",
    "l_pos = s_pos.addVariable('l', dim_d)\n",
    "\n",
    "s_neg = CyClpSimplex()\n",
    "u_neg = s_neg.addVariable('u', dim_p)\n",
    "l_neg = s_neg.addVariable('l', dim_d)\n",
    "\n",
    "\n",
    "A_p_pos = np.vstack([y_pos,\n",
    "                     x,\n",
    "                     z,\n",
    "                     np.ones(dim_p)])\n",
    "A_p_neg = np.vstack([y_neg,\n",
    "                     x,\n",
    "                     z,\n",
    "                     np.ones(dim_p)])\n",
    "\n",
    "A_p_pos = np.matrix(A_p_pos)\n",
    "A_p_neg = np.matrix(A_p_neg)\n",
    "\n",
    "b_p = CyLPArray(np.hstack([0,rhs_p]))\n",
    "b_d_pos = CyLPArray(y_pos)\n",
    "b_d_neg = CyLPArray(y_neg)\n",
    "\n",
    "A_d = np.hstack([x.reshape(-1, 1),\n",
    "                 z.reshape(-1, 1),\n",
    "                 np.ones(len(x)).reshape(-1, 1)])\n",
    "A_d = np.matrix(A_d)\n",
    "\n",
    "\n",
    "# A_d1 = np.matrix(np.vstack([-rhs_p,np.zeros((3,3))]))\n",
    "t = np.array([0.1,0.1, 1], dtype=np.double)\n",
    "A_d1 = np.matrix(np.vstack([-t,np.zeros((3,3))]))\n",
    "\n",
    "s_pos += A_p_pos*u_pos + A_d1*l_pos  == b_p\n",
    "s_neg += A_p_neg*u_neg + A_d1*l_neg  == b_p\n",
    "\n",
    "for i in range(dim_p):\n",
    "    s_pos += u_pos[i] >= 0\n",
    "    s_neg += u_neg[i] >= 0\n",
    "\n",
    "s_pos += A_d*l_pos <= b_d_pos\n",
    "s_neg += A_d*l_neg >= b_d_neg\n",
    "\n",
    "s_pos.objective = u_pos[0]\n",
    "s_neg.objective = u_neg[0]\n",
    "\n",
    "s_pos.primal()\n",
    "s_neg.primal()\n",
    "\n",
    "cond_pos = s_pos.primalVariableSolution['u']\n",
    "yr_pos = np.dot(cond_pos, y_pos)\n",
    "\n",
    "cond_neg = s_neg.primalVariableSolution['u']\n",
    "yr_neg = np.dot(cond_neg, y_neg)\n",
    "yr_pos + yr_neg, s_pos.getStatusString(), s_neg.getStatusString()"
   ]
  },
  {
   "cell_type": "code",
   "execution_count": 84,
   "metadata": {},
   "outputs": [
    {
     "data": {
      "text/plain": [
       "(0.12000000000000016, 'optimal', 'optimal')"
      ]
     },
     "execution_count": 84,
     "metadata": {},
     "output_type": "execute_result"
    }
   ],
   "source": [
    "x_0, z_0 = 0.4, 0.4\n",
    "x,z,y_pos,y_neg = xs,zs,ys_pos,ys_neg\n",
    "dim_p = len(x)\n",
    "rhs_p = np.array([x_0,z_0, 1], dtype=np.double)\n",
    "dim_d = len(rhs_p) \n",
    "\n",
    "s_pos = CyClpSimplex()\n",
    "u_pos = s_pos.addVariable('u', dim_p)\n",
    "l_pos = s_pos.addVariable('l', dim_d)\n",
    "\n",
    "s_neg = CyClpSimplex()\n",
    "u_neg = s_neg.addVariable('u', dim_p)\n",
    "l_neg = s_neg.addVariable('l', dim_d)\n",
    "\n",
    "\n",
    "A_p_pos = np.vstack([y_pos,\n",
    "                     x,\n",
    "                     z,\n",
    "                     np.ones(dim_p)])\n",
    "A_p_neg = np.vstack([y_neg,\n",
    "                     x,\n",
    "                     z,\n",
    "                     np.ones(dim_p)])\n",
    "\n",
    "A_p_pos = np.matrix(A_p_pos)\n",
    "A_p_neg = np.matrix(A_p_neg)\n",
    "\n",
    "b_p = CyLPArray(np.hstack([0,rhs_p]))\n",
    "b_d_pos = CyLPArray(y_pos)\n",
    "b_d_neg = CyLPArray(y_neg)\n",
    "\n",
    "A_d = np.hstack([x.reshape(-1, 1),\n",
    "                 z.reshape(-1, 1),\n",
    "                 np.ones(len(x)).reshape(-1, 1)])\n",
    "A_d = np.matrix(A_d)\n",
    "\n",
    "\n",
    "# A_d1 = np.matrix(np.vstack([-rhs_p,np.zeros((3,3))]))\n",
    "t = np.array([0.9,0.1, 1], dtype=np.double)\n",
    "A_d1 = np.matrix(np.vstack([-t,np.zeros((3,3))]))\n",
    "\n",
    "s_pos += A_p_pos*u_pos + A_d1*l_pos  == b_p\n",
    "s_neg += A_p_neg*u_neg + A_d1*l_neg  == b_p\n",
    "\n",
    "for i in range(dim_p):\n",
    "    s_pos += u_pos[i] >= 0\n",
    "    s_neg += u_neg[i] >= 0\n",
    "\n",
    "s_pos += A_d*l_pos <= b_d_pos\n",
    "s_neg += A_d*l_neg >= b_d_neg\n",
    "\n",
    "s_pos.objective = u_pos[0]\n",
    "s_neg.objective = u_neg[0]\n",
    "\n",
    "s_pos.primal()\n",
    "s_neg.primal()\n",
    "\n",
    "cond_pos = s_pos.primalVariableSolution['u']\n",
    "yr_pos = np.dot(cond_pos, y_pos)\n",
    "\n",
    "cond_neg = s_neg.primalVariableSolution['u']\n",
    "yr_neg = np.dot(cond_neg, y_neg)\n",
    "yr_pos + yr_neg, s_pos.getStatusString(), s_neg.getStatusString()"
   ]
  },
  {
   "cell_type": "markdown",
   "metadata": {},
   "source": [
    "значения, которые вводятся в коэффициенты для $l$ должны быть больше чем значения, которые вносятся в коэффициенты правой части.\n",
    "\n",
    "Если быть точнее, то судя по всему, сумма значений... хотя и это не точно.\n",
    "\n",
    "Точность при этом хромает, но с этим нужно разбираться."
   ]
  }
 ],
 "metadata": {
  "kernelspec": {
   "display_name": "Python 3",
   "language": "python",
   "name": "python3"
  },
  "language_info": {
   "codemirror_mode": {
    "name": "ipython",
    "version": 3
   },
   "file_extension": ".py",
   "mimetype": "text/x-python",
   "name": "python",
   "nbconvert_exporter": "python",
   "pygments_lexer": "ipython3",
   "version": "3.8.5"
  }
 },
 "nbformat": 4,
 "nbformat_minor": 4
}
