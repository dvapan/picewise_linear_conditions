{
 "cells": [
  {
   "cell_type": "markdown",
   "metadata": {},
   "source": [
    "# Вычисление значения кусочно линейной функции\n",
    "\n",
    "Решением задачи линейного программирования мы можем получить значения кусочно-линейных функций.\n",
    "\n",
    "Нам потребуется линейные решатели, numpy и графика:"
   ]
  },
  {
   "cell_type": "code",
   "execution_count": 2,
   "metadata": {},
   "outputs": [],
   "source": [
    "from cylp.cy import CyClpSimplex\n",
    "from cylp.py.modeling.CyLPModel import CyLPArray\n",
    "\n",
    "import numpy as np\n",
    "\n",
    "import matplotlib.pyplot as plt"
   ]
  },
  {
   "cell_type": "markdown",
   "metadata": {},
   "source": [
    "## Прямая задача"
   ]
  },
  {
   "cell_type": "markdown",
   "metadata": {},
   "source": [
    "Рассмотрим кусочно-линейную функцию такого вида, чтобы она принимала нулевое значение для $x <= 0$ и выпуклой для $x > 0$. Функция заданна на $n$ точках из отрезка $[a,b]$."
   ]
  },
  {
   "cell_type": "code",
   "execution_count": 18,
   "metadata": {},
   "outputs": [
    {
     "data": {
      "text/plain": [
       "[<matplotlib.lines.Line2D at 0x7fe1a5f65ee0>]"
      ]
     },
     "execution_count": 18,
     "metadata": {},
     "output_type": "execute_result"
    },
    {
     "data": {
      "image/png": "[encoded data removed]",
      "text/plain": [
       "<Figure size 432x288 with 1 Axes>"
      ]
     },
     "metadata": {
      "needs_background": "light"
     },
     "output_type": "display_data"
    }
   ],
   "source": [
    "n = 15\n",
    "a, b = -4, 4\n",
    "x = np.linspace(a,b,n)\n",
    "y = np.piecewise(x, [x <= 0, x > 0], \n",
    "                [0, lambda x: x**2])\n",
    "plt.plot(x,y)"
   ]
  },
  {
   "cell_type": "markdown",
   "metadata": {},
   "source": [
    "Мы будем искать значение $y_0$ для некоторого заданного $x_0$"
   ]
  },
  {
   "cell_type": "code",
   "execution_count": 10,
   "metadata": {},
   "outputs": [],
   "source": [
    "x_0 = 2"
   ]
  },
  {
   "cell_type": "markdown",
   "metadata": {},
   "source": [
    "Поиск координаты $y$ при заданных $x$ можно свести к решению следующей задачи ЛП:\n",
    "\n",
    "$$\n",
    "\\min_{u_i, i=1,\\ldots,n} y = \\sum_{i=1}^{n} u_i y_i,\n",
    "$$\n",
    "\n",
    "при условиях:\n",
    "\n",
    "$$\n",
    "\\sum_{i=1}^{n} u_i x_i = x_0,\\\\\n",
    "\\sum_{i=1}^{n} u_i = 1, \\\\\n",
    "u_i >= 0, i = 1,\\ldots, n.\n",
    "$$\n",
    "\n",
    "Для этого сформируем матрицу коэффициентов $A$ для представления ограчничений в матричной форме и вектор $b$:"
   ]
  },
  {
   "cell_type": "code",
   "execution_count": 20,
   "metadata": {},
   "outputs": [],
   "source": [
    "A = np.vstack([x,np.ones(n)])\n",
    "A = np.matrix(A)\n",
    "b = CyLPArray(np.array([x_0, 1]))"
   ]
  },
  {
   "cell_type": "markdown",
   "metadata": {},
   "source": [
    "После всего этого мы можем спокойно отправить в *cylp* нашу матрицу и решить задачу:"
   ]
  },
  {
   "cell_type": "code",
   "execution_count": 22,
   "metadata": {},
   "outputs": [
    {
     "data": {
      "text/plain": [
       "'optimal'"
      ]
     },
     "execution_count": 22,
     "metadata": {},
     "output_type": "execute_result"
    }
   ],
   "source": [
    "s = CyClpSimplex()\n",
    "u = s.addVariable('u',n)\n",
    "\n",
    "s += A*u == b\n",
    "\n",
    "for i in range(n):\n",
    "    s += u[i] >= 0\n",
    "\n",
    "s.optimizationDirection = 'min'\n",
    "s.objectiveCoefficients = y\n",
    "s.primal()"
   ]
  },
  {
   "cell_type": "markdown",
   "metadata": {},
   "source": [
    "Значением функции будет величина скалярного произведения набора оптимизируемых параметров, на соответсвующие точки в таблице значений кусочно-линейной функции"
   ]
  },
  {
   "cell_type": "code",
   "execution_count": 31,
   "metadata": {},
   "outputs": [
    {
     "name": "stdout",
     "output_type": "stream",
     "text": [
      "2 2.0\n",
      "4 4.0816326530612255\n"
     ]
    }
   ],
   "source": [
    "cond = s.primalVariableSolution['u']\n",
    "x_res = np.dot(cond, x)\n",
    "y_res = np.dot(cond, y)\n",
    "\n",
    "print(x_0,x_res)\n",
    "print(x_0**2, y_res)"
   ]
  },
  {
   "cell_type": "markdown",
   "metadata": {},
   "source": [
    "Выделим в отдельную функцию, процесс, который описан выше: "
   ]
  },
  {
   "cell_type": "code",
   "execution_count": 73,
   "metadata": {},
   "outputs": [],
   "source": [
    "def plpf(xs,ys,x_0):\n",
    "    x,y = xs,ys\n",
    "    s = CyClpSimplex()\n",
    "    u = s.addVariable('u',n)\n",
    "\n",
    "    A = np.vstack([x,np.ones(n)])\n",
    "    A = np.matrix(A)\n",
    "    b = CyLPArray(np.array([x_0, 1]))\n",
    "    \n",
    "    s += A*u == b\n",
    "\n",
    "    for i in range(n):\n",
    "        s += u[i] >= 0\n",
    "        \n",
    "    s.optimizationDirection = 'min'\n",
    "    s.objectiveCoefficients = y\n",
    "    s.primal()\n",
    "    cond = s.primalVariableSolution['u']\n",
    "    y_res = np.dot(cond, y)\n",
    "    \n",
    "    return y_res"
   ]
  },
  {
   "cell_type": "code",
   "execution_count": 85,
   "metadata": {},
   "outputs": [
    {
     "data": {
      "text/plain": [
       "[<matplotlib.lines.Line2D at 0x7fe1a566ed60>]"
      ]
     },
     "execution_count": 85,
     "metadata": {},
     "output_type": "execute_result"
    },
    {
     "data": {
      "image/png": "[encoded data removed]",
      "text/plain": [
       "<Figure size 432x288 with 1 Axes>"
      ]
     },
     "metadata": {
      "needs_background": "light"
     },
     "output_type": "display_data"
    }
   ],
   "source": [
    "a,b = -4,4\n",
    "n_res = n*10\n",
    "x_res = np.linspace(a,b,n_res)\n",
    "y_res = np.empty(n_res)\n",
    "\n",
    "for i in range(n_res):\n",
    "    y_res[i] = plpf(x,y,x_res[i])\n",
    "\n",
    "plt.plot(x_res, y_res)"
   ]
  },
  {
   "cell_type": "markdown",
   "metadata": {},
   "source": [
    "Для проверки вычислим величину отклонения приближения, крестиком обозначим те точки, на которых заданно табличное значение:"
   ]
  },
  {
   "cell_type": "code",
   "execution_count": 93,
   "metadata": {},
   "outputs": [
    {
     "data": {
      "text/plain": [
       "[<matplotlib.lines.Line2D at 0x7fe1a5429eb0>]"
      ]
     },
     "execution_count": 93,
     "metadata": {},
     "output_type": "execute_result"
    },
    {
     "data": {
      "image/png": "[encoded data removed]",
      "text/plain": [
       "<Figure size 432x288 with 1 Axes>"
      ]
     },
     "metadata": {
      "needs_background": "light"
     },
     "output_type": "display_data"
    }
   ],
   "source": [
    "y_test = np.piecewise(x_res, [x_res <= 0, x_res > 0], \n",
    "                [0, lambda x: x**2])\n",
    "plt.plot(x,np.zeros_like(x),'+')\n",
    "plt.plot(x_res, abs(y_test - y_res))"
   ]
  }
 ],
 "metadata": {
  "kernelspec": {
   "display_name": "Python 3",
   "language": "python",
   "name": "python3"
  },
  "language_info": {
   "codemirror_mode": {
    "name": "ipython",
    "version": 3
   },
   "file_extension": ".py",
   "mimetype": "text/x-python",
   "name": "python",
   "nbconvert_exporter": "python",
   "pygments_lexer": "ipython3",
   "version": "3.8.5"
  }
 },
 "nbformat": 4,
 "nbformat_minor": 4
}
