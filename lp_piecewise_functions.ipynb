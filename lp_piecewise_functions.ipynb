{
 "cells": [
  {
   "cell_type": "markdown",
   "metadata": {
    "slideshow": {
     "slide_type": "slide"
    }
   },
   "source": [
    "# Вычисление значения кусочно линейной функции одной переменной\n",
    "\n",
    "Решением задачи линейного программирования мы можем получить значения кусочно-линейных функций.\n",
    "\n",
    "Нам потребуется линейные решатели, numpy и графика:"
   ]
  },
  {
   "cell_type": "code",
   "execution_count": 1,
   "metadata": {
    "slideshow": {
     "slide_type": "subslide"
    }
   },
   "outputs": [
    {
     "name": "stdout",
     "output_type": "stream",
     "text": [
      "\n",
      "The following command must be run outside of the IPython shell:\n",
      "\n",
      "    $ pip install cylp \n",
      "\n",
      "The Python package manager (pip) can only be used from outside of IPython.\n",
      "Please reissue the `pip` command in a separate terminal or command prompt.\n",
      "\n",
      "See the Python documentation for more information on how to install packages:\n",
      "\n",
      "    https://docs.python.org/3/installing/\n"
     ]
    }
   ],
   "source": [
    "pip install cylp "
   ]
  },
  {
   "cell_type": "code",
   "execution_count": 2,
   "metadata": {
    "slideshow": {
     "slide_type": "subslide"
    }
   },
   "outputs": [
    {
     "name": "stdout",
     "output_type": "stream",
     "text": [
      "\n",
      "The following command must be run outside of the IPython shell:\n",
      "\n",
      "    $ pip install --upgrade pip \n",
      "\n",
      "The Python package manager (pip) can only be used from outside of IPython.\n",
      "Please reissue the `pip` command in a separate terminal or command prompt.\n",
      "\n",
      "See the Python documentation for more information on how to install packages:\n",
      "\n",
      "    https://docs.python.org/3/installing/\n"
     ]
    }
   ],
   "source": [
    "pip install --upgrade pip "
   ]
  },
  {
   "cell_type": "code",
   "execution_count": 41,
   "metadata": {
    "slideshow": {
     "slide_type": "slide"
    }
   },
   "outputs": [],
   "source": [
    "from cylp.cy import CyClpSimplex\n",
    "from cylp.py.modeling.CyLPModel import CyLPArray\n",
    "\n",
    "import numpy as np\n",
    "\n",
    "from mpl_toolkits.mplot3d import axes3d\n",
    "import matplotlib.pyplot as plt\n"
   ]
  },
  {
   "cell_type": "markdown",
   "metadata": {
    "slideshow": {
     "slide_type": "slide"
    }
   },
   "source": [
    "## Прямая задача"
   ]
  },
  {
   "cell_type": "markdown",
   "metadata": {
    "slideshow": {
     "slide_type": "-"
    }
   },
   "source": [
    "Рассмотрим кусочно-линейную функцию такого вида, чтобы она принимала нулевое значение для $x <= 0$ и выпуклой для $x > 0$. Функция заданна на $n$ точках из отрезка $[a,b]$."
   ]
  },
  {
   "cell_type": "code",
   "execution_count": 4,
   "metadata": {
    "slideshow": {
     "slide_type": "slide"
    }
   },
   "outputs": [
    {
     "data": {
      "text/plain": [
       "[<matplotlib.lines.Line2D at 0x7ffb4d29c4a8>]"
      ]
     },
     "execution_count": 4,
     "metadata": {},
     "output_type": "execute_result"
    },
    {
     "data": {
      "image/png": "[encoded data removed]",
      "text/plain": [
       "<Figure size 432x288 with 1 Axes>"
      ]
     },
     "metadata": {
      "needs_background": "light"
     },
     "output_type": "display_data"
    }
   ],
   "source": [
    "n = 15\n",
    "a, b = -4, 4\n",
    "x = np.linspace(a,b,n)\n",
    "y = np.piecewise(x, [x <= 0, x > 0], \n",
    "                [0, lambda x: x**2])\n",
    "plt.plot(x,y)"
   ]
  },
  {
   "cell_type": "markdown",
   "metadata": {
    "slideshow": {
     "slide_type": "slide"
    }
   },
   "source": [
    "Мы будем искать значение $y_0$ для некоторого заданного $x_0$"
   ]
  },
  {
   "cell_type": "code",
   "execution_count": 5,
   "metadata": {
    "slideshow": {
     "slide_type": "fragment"
    }
   },
   "outputs": [],
   "source": [
    "x_0 = 2"
   ]
  },
  {
   "cell_type": "markdown",
   "metadata": {
    "slideshow": {
     "slide_type": "slide"
    }
   },
   "source": [
    "Поиск координаты $y$ при заданных $x$ можно свести к решению следующей задачи ЛП:\n",
    "\n",
    "$$\n",
    "\\min_{u_i, i=1,\\ldots,n} y = \\sum_{i=1}^{n} u_i y_i,\n",
    "$$\n",
    "\n",
    "при условиях:\n",
    "\n",
    "$$\n",
    "\\sum_{i=1}^{n} u_i x_i = x_0,\\\\\n",
    "\\sum_{i=1}^{n} u_i = 1, \\\\\n",
    "u_i >= 0, i = 1,\\ldots, n.\n",
    "$$\n",
    "\n",
    "Для этого сформируем матрицу коэффициентов $A$ для представления ограчничений в матричной форме и вектор $b$:"
   ]
  },
  {
   "cell_type": "code",
   "execution_count": 6,
   "metadata": {
    "slideshow": {
     "slide_type": "fragment"
    }
   },
   "outputs": [],
   "source": [
    "A = np.vstack([x,np.ones(n)])\n",
    "A = np.matrix(A)\n",
    "b = CyLPArray(np.array([x_0, 1]))"
   ]
  },
  {
   "cell_type": "markdown",
   "metadata": {
    "slideshow": {
     "slide_type": "slide"
    }
   },
   "source": [
    "После всего этого мы можем спокойно отправить в *cylp* нашу матрицу и решить задачу:"
   ]
  },
  {
   "cell_type": "code",
   "execution_count": 7,
   "metadata": {
    "slideshow": {
     "slide_type": "fragment"
    }
   },
   "outputs": [
    {
     "data": {
      "text/plain": [
       "'optimal'"
      ]
     },
     "execution_count": 7,
     "metadata": {},
     "output_type": "execute_result"
    }
   ],
   "source": [
    "s = CyClpSimplex()\n",
    "u = s.addVariable('u',n)\n",
    "\n",
    "s += A*u == b\n",
    "\n",
    "for i in range(n):\n",
    "    s += u[i] >= 0\n",
    "\n",
    "s.optimizationDirection = 'min'\n",
    "s.objectiveCoefficients = y\n",
    "s.primal()"
   ]
  },
  {
   "cell_type": "markdown",
   "metadata": {
    "slideshow": {
     "slide_type": "slide"
    }
   },
   "source": [
    "Значением функции будет величина скалярного произведения набора оптимизируемых параметров, на соответсвующие точки в таблице значений кусочно-линейной функции"
   ]
  },
  {
   "cell_type": "code",
   "execution_count": 8,
   "metadata": {
    "slideshow": {
     "slide_type": "fragment"
    }
   },
   "outputs": [
    {
     "name": "stdout",
     "output_type": "stream",
     "text": [
      "2 2.0\n",
      "4 4.0816326530612255\n"
     ]
    }
   ],
   "source": [
    "cond = s.primalVariableSolution['u']\n",
    "x_res = np.dot(cond, x)\n",
    "y_res = np.dot(cond, y)\n",
    "\n",
    "print(x_0,x_res)\n",
    "print(x_0**2, y_res)"
   ]
  },
  {
   "cell_type": "markdown",
   "metadata": {
    "slideshow": {
     "slide_type": "slide"
    }
   },
   "source": [
    "Выделим в отдельную функцию, процесс, который описан выше: "
   ]
  },
  {
   "cell_type": "code",
   "execution_count": 9,
   "metadata": {
    "slideshow": {
     "slide_type": "fragment"
    }
   },
   "outputs": [],
   "source": [
    "def plpp(xs,ys,x_0):\n",
    "    x,y = xs,ys\n",
    "    s = CyClpSimplex()\n",
    "    u = s.addVariable('u',n)\n",
    "\n",
    "    A = np.vstack([x,np.ones(n)])\n",
    "    A = np.matrix(A)\n",
    "    b = CyLPArray(np.array([x_0, 1]))\n",
    "    \n",
    "    s += A*u == b\n",
    "\n",
    "    for i in range(n):\n",
    "        s += u[i] >= 0\n",
    "        \n",
    "    s.optimizationDirection = 'min'\n",
    "    s.objectiveCoefficients = y\n",
    "    s.primal()\n",
    "    cond = s.primalVariableSolution['u']\n",
    "    y_res = np.dot(cond, y)\n",
    "    \n",
    "    return y_res"
   ]
  },
  {
   "cell_type": "markdown",
   "metadata": {
    "slideshow": {
     "slide_type": "slide"
    }
   },
   "source": [
    "Теперь можем вычислять значения функции в любой точке заданной области на основании линейной интерполляции табличных значений."
   ]
  },
  {
   "cell_type": "code",
   "execution_count": 10,
   "metadata": {
    "slideshow": {
     "slide_type": "fragment"
    }
   },
   "outputs": [
    {
     "data": {
      "text/plain": [
       "[<matplotlib.lines.Line2D at 0x7ffb4d1c96a0>]"
      ]
     },
     "execution_count": 10,
     "metadata": {},
     "output_type": "execute_result"
    },
    {
     "data": {
      "image/png": "[encoded data removed]",
      "text/plain": [
       "<Figure size 432x288 with 1 Axes>"
      ]
     },
     "metadata": {
      "needs_background": "light"
     },
     "output_type": "display_data"
    }
   ],
   "source": [
    "a,b = -4,4\n",
    "n_res = n*10\n",
    "x_res = np.linspace(a,b,n_res)\n",
    "y_res = np.empty(n_res)\n",
    "\n",
    "for i in range(n_res):\n",
    "    y_res[i] = plpp(x,y,x_res[i])\n",
    "\n",
    "plt.plot(x_res, y_res)"
   ]
  },
  {
   "cell_type": "markdown",
   "metadata": {
    "slideshow": {
     "slide_type": "slide"
    }
   },
   "source": [
    "Для проверки вычислим величину отклонения приближения, крестиком обозначим те точки, на которых заданно табличное значение:"
   ]
  },
  {
   "cell_type": "code",
   "execution_count": 11,
   "metadata": {
    "slideshow": {
     "slide_type": "fragment"
    }
   },
   "outputs": [
    {
     "data": {
      "text/plain": [
       "[<matplotlib.lines.Line2D at 0x7ffb4d147080>]"
      ]
     },
     "execution_count": 11,
     "metadata": {},
     "output_type": "execute_result"
    },
    {
     "data": {
      "image/png": "[encoded data removed]",
      "text/plain": [
       "<Figure size 432x288 with 1 Axes>"
      ]
     },
     "metadata": {
      "needs_background": "light"
     },
     "output_type": "display_data"
    }
   ],
   "source": [
    "y_test = np.piecewise(x_res, [x_res <= 0, x_res > 0], \n",
    "                [0, lambda x: x**2])\n",
    "plt.plot(x,np.zeros_like(x),'+')\n",
    "plt.plot(x_res, abs(y_test - y_res))"
   ]
  },
  {
   "cell_type": "markdown",
   "metadata": {
    "slideshow": {
     "slide_type": "slide"
    }
   },
   "source": [
    "## Двойственная задача"
   ]
  },
  {
   "cell_type": "markdown",
   "metadata": {
    "slideshow": {
     "slide_type": "fragment"
    }
   },
   "source": [
    "## Прямая и двойственная задача"
   ]
  },
  {
   "cell_type": "markdown",
   "metadata": {},
   "source": [
    "# Вычисление значения кусочно линейной функции двух переменных"
   ]
  },
  {
   "cell_type": "markdown",
   "metadata": {},
   "source": [
    "Мы попытаемся вычислить функцию двух переменных $y = xz$ на области $x \\in [0,1], z \\in [0,1]$ при условии, что $x + z < 1$."
   ]
  },
  {
   "cell_type": "code",
   "execution_count": 12,
   "metadata": {},
   "outputs": [],
   "source": [
    "x = np.arange(0.1, 1, 0.1, dtype=np.double)\n",
    "z = np.arange(0.1, 1, 0.1, dtype=np.double)\n",
    "x,z = np.meshgrid(x, z)\n",
    "y = 1/(x * z)\n",
    "\n",
    "x = x.flatten()\n",
    "z = z.flatten()\n",
    "y = y.flatten()\n",
    "\n",
    "mask = x+z <= 1\n",
    "\n",
    "x = x[mask]\n",
    "z = z[mask]\n",
    "y = y[mask]\n"
   ]
  },
  {
   "cell_type": "markdown",
   "metadata": {},
   "source": [
    "## Прямая задача"
   ]
  },
  {
   "cell_type": "code",
   "execution_count": 13,
   "metadata": {},
   "outputs": [],
   "source": [
    "def plpp2d(xs,zs,ys,x_0,z_0):\n",
    "    x,z,y = xs,zs,ys\n",
    "    dim_p = len(x)\n",
    "    rhs_p = np.array([x_0,z_0, 1], dtype=np.double)\n",
    "    dim_d = len(rhs_p) \n",
    "    \n",
    "    s = CyClpSimplex()\n",
    "    u = s.addVariable('u',dim_p)\n",
    "\n",
    "\n",
    "\n",
    "    A_p = np.vstack([x,\n",
    "                     z,\n",
    "                     np.ones(dim_p)])\n",
    "    \n",
    "    A_p = np.matrix(A_p)\n",
    "    b_p = CyLPArray(rhs_p)\n",
    "    \n",
    "    s += A_p*u == b_p\n",
    "\n",
    "    for i in range(n):\n",
    "        s += u[i] >= 0\n",
    "        \n",
    "    s.optimizationDirection = 'min'\n",
    "    s.objectiveCoefficients = y\n",
    "    s.primal()\n",
    "    cond = s.primalVariableSolution['u']\n",
    "    y_res = np.dot(cond, y)\n",
    "    \n",
    "    return s.objectiveValue"
   ]
  },
  {
   "cell_type": "code",
   "execution_count": 14,
   "metadata": {},
   "outputs": [
    {
     "data": {
      "text/plain": [
       "4.0"
      ]
     },
     "execution_count": 14,
     "metadata": {},
     "output_type": "execute_result"
    }
   ],
   "source": [
    "plpp2d(x,z,y,0.5,0.5)"
   ]
  },
  {
   "cell_type": "markdown",
   "metadata": {},
   "source": [
    "## Двойственная задача"
   ]
  },
  {
   "cell_type": "code",
   "execution_count": 15,
   "metadata": {},
   "outputs": [],
   "source": [
    "def plpd2d(xs,zs,ys,x_0,z_0):\n",
    "    x,z,y = xs,zs,ys\n",
    "    dim_p = len(x)\n",
    "    rhs_p = np.array([x_0,z_0, 1], dtype=np.double)\n",
    "    dim_d = len(rhs_p)\n",
    "\n",
    "    A_d = np.hstack([x.reshape(-1, 1),\n",
    "                     z.reshape(-1, 1),\n",
    "                     np.ones(len(x)).reshape(-1, 1)])\n",
    "    A_d = np.matrix(A_d)\n",
    "\n",
    "    s = CyClpSimplex()\n",
    "\n",
    "    l = s.addVariable('l', dim_d)\n",
    "\n",
    "    b_d = CyLPArray(y)\n",
    "\n",
    "    s += A_d * l <= b_d\n",
    "\n",
    "\n",
    "    s.optimizationDirection = 'max'\n",
    "    s.objectiveCoefficients = rhs_p\n",
    "\n",
    "    s.primal()\n",
    "    \n",
    "    return s.objectiveValue\n"
   ]
  },
  {
   "cell_type": "code",
   "execution_count": 16,
   "metadata": {},
   "outputs": [
    {
     "data": {
      "text/plain": [
       "4.0"
      ]
     },
     "execution_count": 16,
     "metadata": {},
     "output_type": "execute_result"
    }
   ],
   "source": [
    "plpd2d(x,z,y,0.5,0.5)"
   ]
  },
  {
   "cell_type": "markdown",
   "metadata": {},
   "source": [
    "## Прямая и двойственная задача"
   ]
  },
  {
   "cell_type": "code",
   "execution_count": 34,
   "metadata": {},
   "outputs": [
    {
     "data": {
      "text/plain": [
       "4.000000000000002"
      ]
     },
     "execution_count": 34,
     "metadata": {},
     "output_type": "execute_result"
    }
   ],
   "source": [
    "def plppd2d(xs,zs,ys,x_0,z_0):\n",
    "    x,z,y = xs,zs,ys\n",
    "    dim_p = len(x)\n",
    "    rhs_p = np.array([x_0,z_0, 1], dtype=np.double)\n",
    "    dim_d = len(rhs_p) \n",
    "    \n",
    "    s = CyClpSimplex()\n",
    "    u = s.addVariable('u', dim_p)\n",
    "    l = s.addVariable('l', dim_d)\n",
    "\n",
    "\n",
    "    A_p = np.vstack([y,\n",
    "                     x,\n",
    "                     z,\n",
    "                     np.ones(dim_p)])\n",
    "    \n",
    "    A_p = np.matrix(A_p)\n",
    "    b_p = CyLPArray(np.hstack([0,rhs_p]))\n",
    "    \n",
    "    A_d = np.hstack([x.reshape(-1, 1),\n",
    "                     z.reshape(-1, 1),\n",
    "                     np.ones(len(x)).reshape(-1, 1)])\n",
    "    A_d = np.matrix(A_d)\n",
    "    b_d = CyLPArray(y)\n",
    "    \n",
    "    A_d1 = np.matrix(np.vstack([-rhs_p,np.zeros((3,3))]))\n",
    "    \n",
    "    s += A_p*u + A_d1*l  == b_p\n",
    "\n",
    "    s += A_d*l <= b_d\n",
    "    \n",
    "    for i in range(dim_p):\n",
    "        s += u[i] >= 0\n",
    "        \n",
    "    s.optimizationDirection = 'max'\n",
    "    s.objective = u[0]\n",
    "    s.primal()\n",
    "    cond = s.primalVariableSolution['u']\n",
    "    y_res = np.dot(cond, y)\n",
    "    \n",
    "    return y_res\n",
    "plppd2d(x,z,y,0.5,0.5)"
   ]
  },
  {
   "cell_type": "markdown",
   "metadata": {},
   "source": [
    "Проверим, полученнуй метод. Попытаемся расчитать функцию $y=xz$. При этом, важно понимать, что метод работает только на выпуклых (вогнутых) функциях. А функция $y = xz$ таковой не является. Однако на некоторых областях выпуклость можно обеспечить через попытку найти значение обратной функции $y = \\frac{1}{xz}$. Что и делает текущий метод"
   ]
  },
  {
   "cell_type": "code",
   "execution_count": 90,
   "metadata": {},
   "outputs": [
    {
     "data": {
      "text/plain": [
       "<mpl_toolkits.mplot3d.art3d.Line3DCollection at 0x7ffb4c0d7f60>"
      ]
     },
     "execution_count": 90,
     "metadata": {},
     "output_type": "execute_result"
    },
    {
     "data": {
      "image/png": "[encoded data removed]",
      "text/plain": [
       "<Figure size 432x288 with 1 Axes>"
      ]
     },
     "metadata": {
      "needs_background": "light"
     },
     "output_type": "display_data"
    }
   ],
   "source": [
    "xa, xb = 0.1, 1.1\n",
    "za, zb = 0.1, 1.1\n",
    "step = 0.1\n",
    "test_step = 0.05\n",
    "x = np.arange(xa, xb, step, dtype=np.double)\n",
    "z = np.arange(za, zb, step, dtype=np.double)\n",
    "x,z = np.meshgrid(x, z)\n",
    "y = 1/(x * z)\n",
    "\n",
    "x = x.flatten()\n",
    "z = z.flatten()\n",
    "y = y.flatten()\n",
    "\n",
    "mask = x+z <= 1\n",
    "\n",
    "x = x[mask]\n",
    "z = z[mask]\n",
    "y = y[mask]\n",
    "\n",
    "xs = np.arange(xa, xb, test_step, dtype=np.double)\n",
    "zs = np.arange(za, zb, test_step, dtype=np.double)\n",
    "xs,zs = np.meshgrid(xs, zs)\n",
    "\n",
    "mask = xs+zs <= 1\n",
    "xs = xs[mask]\n",
    "zs = zs[mask]\n",
    "ys = np.empty(len(xs))\n",
    "\n",
    "ys = [plppd2d(x,z,y,x0,z0) for x0,z0 in zip(xs,zs)]\n",
    "ys = np.array(ys)\n",
    "ys = 1/ys\n",
    "\n",
    "xs = np.arange(xa, xb, test_step, dtype=np.double)\n",
    "zs = np.arange(za, zb, test_step, dtype=np.double)\n",
    "xs,zs = np.meshgrid(xs, zs)\n",
    "yy = np.empty_like(xs)\n",
    "mask = xs+zs <= 1\n",
    "\n",
    "yy[xs+zs > 1] = None\n",
    "yy[mask] = ys\n",
    "fig = plt.figure()\n",
    "ax = fig.add_subplot(111, projection='3d')\n",
    "\n",
    "ax.plot_wireframe(xs, zs, yy)\n"
   ]
  },
  {
   "cell_type": "code",
   "execution_count": 91,
   "metadata": {},
   "outputs": [
    {
     "name": "stdout",
     "output_type": "stream",
     "text": [
      "[3.46944695e-18 1.66666667e-03 1.38777878e-17 1.00000000e-03\n",
      " 6.93889390e-18 7.14285714e-04 2.77555756e-17 5.55555556e-04\n",
      " 2.77555756e-17 4.54545455e-04 8.32667268e-17 3.84615385e-04\n",
      " 0.00000000e+00 3.33333333e-04 4.16333634e-17 2.94117647e-04\n",
      " 1.66666667e-03 2.50000000e-03 3.33333333e-03 3.21428571e-03\n",
      " 5.00000000e-03 4.50000000e-03 5.45454545e-03 5.96153846e-03\n",
      " 6.42857143e-03 7.50000000e-03 7.64705882e-03 8.61111111e-03\n",
      " 9.00000000e-03 9.64285714e-03 1.04347826e-02 0.00000000e+00\n",
      " 3.33333333e-03 3.46944695e-17 2.00000000e-03 1.38777878e-17\n",
      " 1.42857143e-03 4.16333634e-17 1.11111111e-03 8.32667268e-17\n",
      " 9.09090909e-04 0.00000000e+00 7.69230769e-04 1.38777878e-16\n",
      " 6.66666667e-04 1.00000000e-03 3.21428571e-03 2.00000000e-03\n",
      " 2.50000000e-03 3.00000000e-03 2.79411765e-03 4.00000000e-03\n",
      " 3.40909091e-03 5.00000000e-03 4.16666667e-03 5.17241379e-03\n",
      " 5.00000000e-03 5.58823529e-03 1.04083409e-17 5.00000000e-03\n",
      " 2.77555756e-17 3.00000000e-03 2.77555756e-17 2.14285714e-03\n",
      " 2.22044605e-16 1.66666667e-03 2.77555756e-17 1.36363636e-03\n",
      " 1.94289029e-16 1.15384615e-03 7.14285714e-04 4.50000000e-03\n",
      " 1.42857143e-03 2.79411765e-03 2.14285714e-03 2.50000000e-03\n",
      " 2.85714286e-03 2.66129032e-03 3.57142857e-03 3.02631579e-03\n",
      " 4.28571429e-03 2.77555756e-17 5.45454545e-03 2.77555756e-17\n",
      " 4.00000000e-03 1.38777878e-17 2.85714286e-03 1.66533454e-16\n",
      " 2.22222222e-03 1.94289029e-16 1.81818182e-03 5.55555556e-04\n",
      " 5.96153846e-03 1.11111111e-03 3.40909091e-03 1.66666667e-03\n",
      " 2.66129032e-03 2.22222222e-03 2.50000000e-03 2.77777778e-03\n",
      " 1.38777878e-17 6.42857143e-03 2.77555756e-17 5.00000000e-03\n",
      " 2.77555756e-17 3.57142857e-03 1.94289029e-16 2.77777778e-03\n",
      " 4.54545455e-04 7.50000000e-03 9.09090909e-04 4.16666667e-03\n",
      " 1.36363636e-03 3.02631579e-03 1.81818182e-03 2.08166817e-17\n",
      " 7.64705882e-03 0.00000000e+00 5.17241379e-03 5.55111512e-17\n",
      " 4.28571429e-03 3.84615385e-04 8.61111111e-03 7.69230769e-04\n",
      " 5.00000000e-03 1.15384615e-03 2.77555756e-17 9.00000000e-03\n",
      " 5.55111512e-17 5.58823529e-03 3.33333333e-04 9.64285714e-03\n",
      " 6.66666667e-04 1.38777878e-17 1.04347826e-02 2.94117647e-04]\n"
     ]
    },
    {
     "data": {
      "text/plain": [
       "[<matplotlib.lines.Line2D at 0x7ffb4bfae630>]"
      ]
     },
     "execution_count": 91,
     "metadata": {},
     "output_type": "execute_result"
    },
    {
     "data": {
      "image/png": "[encoded data removed]",
      "text/plain": [
       "<Figure size 432x288 with 1 Axes>"
      ]
     },
     "metadata": {
      "needs_background": "light"
     },
     "output_type": "display_data"
    }
   ],
   "source": [
    "y_t = xs*zs\n",
    "y_t[xs+zs > 1] = None\n",
    "d = abs(y_t - yy)\n",
    "d = d[mask]\n",
    "print(d)\n",
    "plt.plot(d)"
   ]
  }
 ],
 "metadata": {
  "kernelspec": {
   "display_name": "Python 3",
   "language": "python",
   "name": "python3"
  },
  "language_info": {
   "codemirror_mode": {
    "name": "ipython",
    "version": 3
   },
   "file_extension": ".py",
   "mimetype": "text/x-python",
   "name": "python",
   "nbconvert_exporter": "python",
   "pygments_lexer": "ipython3",
   "version": "3.8.5"
  }
 },
 "nbformat": 4,
 "nbformat_minor": 4
}
